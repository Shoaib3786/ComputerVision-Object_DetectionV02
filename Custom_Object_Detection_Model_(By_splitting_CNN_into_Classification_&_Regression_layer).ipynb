{
  "nbformat": 4,
  "nbformat_minor": 0,
  "metadata": {
    "colab": {
      "provenance": [],
      "collapsed_sections": [
        "hozewuUgIRj7",
        "kujbAati7xBr",
        "2m-QI1Us0EKJ",
        "Q2TDvSLi9Ic0",
        "YK_Pwg_L9QaW",
        "quKdTRuIKeGk",
        "puRHYin1Y5_T",
        "aFzuKHfWZzd6",
        "2pdURYfmZ8cY",
        "3xr-GPYZaHfu",
        "kWkyMgcv7nvh",
        "yegiYLo078YW",
        "Hu1IFzk31oZw",
        "VT_6pYUg9kSo",
        "JMkDsjUaEysR",
        "s-8BJZGzK2DZ"
      ]
    },
    "kernelspec": {
      "name": "python3",
      "display_name": "Python 3"
    },
    "language_info": {
      "name": "python"
    },
    "accelerator": "GPU",
    "gpuClass": "standard"
  },
  "cells": [
    {
      "cell_type": "markdown",
      "source": [
        "# Library:"
      ],
      "metadata": {
        "id": "H9H1hgcS6yAP"
      }
    },
    {
      "cell_type": "code",
      "source": [
        "!pip install tensorflow_addons"
      ],
      "metadata": {
        "colab": {
          "base_uri": "https://localhost:8080/"
        },
        "id": "Hzt864LH1o3U",
        "outputId": "876f1980-9679-4bf0-db88-4fcb1640740b"
      },
      "execution_count": null,
      "outputs": [
        {
          "output_type": "stream",
          "name": "stdout",
          "text": [
            "Looking in indexes: https://pypi.org/simple, https://us-python.pkg.dev/colab-wheels/public/simple/\n",
            "Collecting tensorflow_addons\n",
            "  Downloading tensorflow_addons-0.19.0-cp38-cp38-manylinux_2_17_x86_64.manylinux2014_x86_64.whl (1.1 MB)\n",
            "\u001b[2K     \u001b[90m━━━━━━━━━━━━━━━━━━━━━━━━━━━━━━━━━━━━━━━━\u001b[0m \u001b[32m1.1/1.1 MB\u001b[0m \u001b[31m15.6 MB/s\u001b[0m eta \u001b[36m0:00:00\u001b[0m\n",
            "\u001b[?25hRequirement already satisfied: packaging in /usr/local/lib/python3.8/dist-packages (from tensorflow_addons) (23.0)\n",
            "Requirement already satisfied: typeguard>=2.7 in /usr/local/lib/python3.8/dist-packages (from tensorflow_addons) (2.7.1)\n",
            "Installing collected packages: tensorflow_addons\n",
            "Successfully installed tensorflow_addons-0.19.0\n"
          ]
        }
      ]
    },
    {
      "cell_type": "code",
      "execution_count": null,
      "metadata": {
        "id": "fSET7ZY06wRq"
      },
      "outputs": [],
      "source": [
        "\n",
        "from sklearn.model_selection import train_test_split\n",
        "import tensorflow as tf\n",
        "import keras\n",
        "from keras.utils import to_categorical\n",
        "from tensorflow.keras.layers import Dense, Flatten\n",
        "from tensorflow.keras import layers\n",
        "import matplotlib.pyplot as plt\n",
        "import pandas as pd\n",
        "import numpy as np\n",
        "import csv\n",
        "import os\n",
        "from os.path import isfile\n",
        "import random\n",
        "import json\n",
        "from keras.optimizers import SGD\n",
        "from google.colab.patches import cv2_imshow\n",
        "import cv2 as cv\n",
        "from PIL import Image\n",
        "\n",
        "import tensorflow_addons as tfa\n"
      ]
    },
    {
      "cell_type": "code",
      "source": [
        "# make dict classes with its unique int value\n",
        "mclass = {0:'Mouse Detected', 1:'Mouse Not Detected'} "
      ],
      "metadata": {
        "id": "ddfhLcPV9jq-"
      },
      "execution_count": null,
      "outputs": []
    },
    {
      "cell_type": "markdown",
      "source": [
        "# Layers Building:"
      ],
      "metadata": {
        "id": "PudkjUfnIJUC"
      }
    },
    {
      "cell_type": "markdown",
      "source": [
        "### Building Components"
      ],
      "metadata": {
        "id": "hozewuUgIRj7"
      }
    },
    {
      "cell_type": "code",
      "source": [
        "\n",
        "# Build base CNN layer EfficientNet using Keras\n",
        "def build_cnn_layer():\n",
        "    \n",
        "  cnn_layer = tf.keras.applications.MobileNetV2(\n",
        "    input_shape = (224,224,3),    #change input size if needed\n",
        "    alpha=1.0,\n",
        "    include_top=False,\n",
        "    weights='imagenet')\n",
        "  \n",
        "  # # only allowing last 5 layer of mobileNet to train\n",
        "  # for layer in cnn_layer.layers[:-7]:\n",
        "  #   layer.trainable = False\n",
        "\n",
        "  return cnn_layer\n",
        "\n",
        "\n",
        "def customCnn_layer(inputs):\n",
        "\n",
        "  x = inputs\n",
        "\n",
        "  x = layers.Conv2D(128, 3, padding='same', activation='relu', name='bl_1')(x)\n",
        "  x = layers.MaxPooling2D(name='bl_2')(x)\n",
        "  x = layers.Conv2D(128, 3, padding='same', activation='relu', name='bl_3')(x)\n",
        "  x = layers.MaxPooling2D(name='bl_4')(x)\n",
        "  x = layers.Conv2D(64, 3, padding='same', activation='relu', name='bl_5')(x)\n",
        "\n",
        "\n",
        "  return x\n",
        "\n",
        "\n",
        "# Flatten\n",
        "def flatten_layer(inputs):\n",
        "\n",
        "  x = inputs\n",
        "  flattened_layer = Flatten()(x)\n",
        "\n",
        "  return flattened_layer\n",
        "\n",
        "\n",
        "####################\n",
        "# Creating 2 Heads #\n",
        "####################\n",
        "\n",
        "\n",
        "# Classifier Head:\n",
        "def classify_layer(inputs, num_classes=2):\n",
        "\n",
        "  x = inputs\n",
        "  x = Dense(128, activation='relu', name='cl_1')(x)\n",
        "  x = Dense(64, activation='relu', name='cl_2')(x)\n",
        "  x = Dense(32, activation='relu', name='cl_3')(x)\n",
        "  class_head = Dense(num_classes, activation='softmax', name='cl_head')(x)\n",
        "\n",
        "  return class_head\n",
        "\n",
        "\n",
        "\n",
        "# Regression Head:\n",
        "def regress_layer(inputs, num_coord=4):\n",
        "\n",
        "  x = inputs\n",
        "  x = Dense(128, activation='relu', name='bb_1')(x)\n",
        "  x = Dense(64, activation='relu', name='bb_2')(x)\n",
        "  x = Dense(32, activation='relu', name='bb_3')(x)\n",
        "  regress_head = Dense(num_coord, activation='sigmoid', name='bb_head')(x)\n",
        "\n",
        "  return regress_head\n",
        "\n"
      ],
      "metadata": {
        "id": "-A3VV3p7IJD5"
      },
      "execution_count": null,
      "outputs": []
    },
    {
      "cell_type": "markdown",
      "source": [
        "### Combining components:"
      ],
      "metadata": {
        "id": "ga78oGs3IVk-"
      }
    },
    {
      "cell_type": "code",
      "source": [
        "\n",
        "def final_model():\n",
        "\n",
        "  inputs = tf.keras.Input((224,224,3))\n",
        "\n",
        "  #adding cnn layer\n",
        "  base_model = build_cnn_layer()   # build varaible to store the function returned value.\n",
        "  x = base_model(inputs)           # input the data in base_model using functional API mtd.\n",
        "\n",
        "\n",
        "  # #adding custom cnn layer for [freezing accuracy issue]{for testig purpose}\n",
        "  # x = customCnn_layer(x)\n",
        "\n",
        "  # adding flatten layer\n",
        "  x = flatten_layer(x)\n",
        "\n",
        "  # adding regression head\n",
        "  regress_head = regress_layer(x)\n",
        "\n",
        "  #adding classifier head\n",
        "  classify_head = classify_layer(x)\n",
        "\n",
        "\n",
        "  return  tf.keras.Model(inputs = inputs, outputs = [classify_head, regress_head])\n",
        "\n"
      ],
      "metadata": {
        "id": "hqi1NltgIVS2"
      },
      "execution_count": null,
      "outputs": []
    },
    {
      "cell_type": "code",
      "source": [
        "# model = final_model()\n",
        "\n",
        "# model.summary()\n",
        "\n"
      ],
      "metadata": {
        "id": "FpfNpQ4MKdXI",
        "colab": {
          "base_uri": "https://localhost:8080/"
        },
        "outputId": "3fe0567e-0d88-45b5-9fef-c2fcd3fa2f14"
      },
      "execution_count": null,
      "outputs": [
        {
          "output_type": "stream",
          "name": "stdout",
          "text": [
            "Model: \"model_8\"\n",
            "__________________________________________________________________________________________________\n",
            " Layer (type)                   Output Shape         Param #     Connected to                     \n",
            "==================================================================================================\n",
            " input_23 (InputLayer)          [(None, 224, 224, 3  0           []                               \n",
            "                                )]                                                                \n",
            "                                                                                                  \n",
            " mobilenetv2_1.00_224 (Function  (None, 7, 7, 1280)  2257984     ['input_23[0][0]']               \n",
            " al)                                                                                              \n",
            "                                                                                                  \n",
            " flatten_8 (Flatten)            (None, 62720)        0           ['mobilenetv2_1.00_224[0][0]']   \n",
            "                                                                                                  \n",
            " cl_1 (Dense)                   (None, 128)          8028288     ['flatten_8[0][0]']              \n",
            "                                                                                                  \n",
            " bb_1 (Dense)                   (None, 128)          8028288     ['flatten_8[0][0]']              \n",
            "                                                                                                  \n",
            " cl_2 (Dense)                   (None, 64)           8256        ['cl_1[0][0]']                   \n",
            "                                                                                                  \n",
            " bb_2 (Dense)                   (None, 64)           8256        ['bb_1[0][0]']                   \n",
            "                                                                                                  \n",
            " cl_3 (Dense)                   (None, 32)           2080        ['cl_2[0][0]']                   \n",
            "                                                                                                  \n",
            " bb_3 (Dense)                   (None, 32)           2080        ['bb_2[0][0]']                   \n",
            "                                                                                                  \n",
            " cl_head (Dense)                (None, 2)            66          ['cl_3[0][0]']                   \n",
            "                                                                                                  \n",
            " bb_head (Dense)                (None, 4)            132         ['bb_3[0][0]']                   \n",
            "                                                                                                  \n",
            "==================================================================================================\n",
            "Total params: 18,335,430\n",
            "Trainable params: 18,301,318\n",
            "Non-trainable params: 34,112\n",
            "__________________________________________________________________________________________________\n"
          ]
        }
      ]
    },
    {
      "cell_type": "code",
      "source": [
        "num_classes = 2\n",
        "\n",
        "\n",
        "#create the common input layer\n",
        "input_shape = (224, 224, 3)\n",
        "input_layer = tf.keras.layers.Input(input_shape)\n",
        "\n",
        "#create the base layers\n",
        "# x = layers.experimental.preprocessing.Rescaling(1./255, name='bl_1')(input_layer)\n",
        "x = layers.Conv2D(16, 3, padding='same', activation='relu', name='bl_2')(input_layer)\n",
        "x = layers.MaxPooling2D(name='bl_3')(x)\n",
        "x = layers.Conv2D(32, 3, padding='same', activation='relu', name='bl_4')(x)\n",
        "x = layers.MaxPooling2D(name='bl_5')(x)\n",
        "x = layers.Conv2D(64, 3, padding='same', activation='relu', name='bl_6')(x)\n",
        "x = layers.MaxPooling2D(name='bl_7')(x)\n",
        "x = layers.Conv2D(128, 3, padding='same', activation='relu', name='bl_8')(x)\n",
        "x = layers.MaxPooling2D(name='bl_9')(x)\n",
        "x = layers.Conv2D(256, 3, padding='same', activation='relu', name='bl_10')(x)\n",
        "x = layers.MaxPooling2D(name='bl_11')(x)\n",
        "x = layers.Flatten(name='bl_12')(x)\n",
        "\n",
        "\n",
        "#create the classifier branch\n",
        "classifier_branch = layers.Dense(128, activation='relu', name='cl_1')(x)\n",
        "classifier_branch = layers.Dense(64, activation='relu', name='cl_2')(x)\n",
        "classifier_branch = layers.Dense(32, activation='relu', name='cl_3')(x)\n",
        "classifier_branch = layers.Dense(32, activation='relu', name='cl_3')(x)\n",
        "classifier_branch = layers.Dense(num_classes, activation='softmax', name='cl_head')(classifier_branch)  \n",
        "\n",
        "\n",
        "\n",
        "#create the localiser branch\n",
        "locator_branch = layers.Dense(128, activation='relu', name='bb_1')(x)\n",
        "locator_branch = layers.Dense(64, activation='relu', name='bb_2')(locator_branch)\n",
        "locator_branch = layers.Dense(32, activation='relu', name='bb_3')(locator_branch)\n",
        "locator_branch = layers.Dense(4, activation='sigmoid', name='bb_head')(locator_branch)\n",
        "\n",
        "\n",
        "model = tf.keras.Model(input_layer, outputs=[classifier_branch,locator_branch])\n",
        "\n",
        "model.summary()\n"
      ],
      "metadata": {
        "id": "hmMvASrNWEF5",
        "colab": {
          "base_uri": "https://localhost:8080/"
        },
        "outputId": "e9ef5fbd-c620-46c8-f847-5eb405fab2f2"
      },
      "execution_count": null,
      "outputs": [
        {
          "output_type": "stream",
          "name": "stdout",
          "text": [
            "Model: \"model_9\"\n",
            "__________________________________________________________________________________________________\n",
            " Layer (type)                   Output Shape         Param #     Connected to                     \n",
            "==================================================================================================\n",
            " input_25 (InputLayer)          [(None, 224, 224, 3  0           []                               \n",
            "                                )]                                                                \n",
            "                                                                                                  \n",
            " bl_2 (Conv2D)                  (None, 224, 224, 16  448         ['input_25[0][0]']               \n",
            "                                )                                                                 \n",
            "                                                                                                  \n",
            " bl_3 (MaxPooling2D)            (None, 112, 112, 16  0           ['bl_2[0][0]']                   \n",
            "                                )                                                                 \n",
            "                                                                                                  \n",
            " bl_4 (Conv2D)                  (None, 112, 112, 32  4640        ['bl_3[0][0]']                   \n",
            "                                )                                                                 \n",
            "                                                                                                  \n",
            " bl_5 (MaxPooling2D)            (None, 56, 56, 32)   0           ['bl_4[0][0]']                   \n",
            "                                                                                                  \n",
            " bl_6 (Conv2D)                  (None, 56, 56, 64)   18496       ['bl_5[0][0]']                   \n",
            "                                                                                                  \n",
            " bl_7 (MaxPooling2D)            (None, 28, 28, 64)   0           ['bl_6[0][0]']                   \n",
            "                                                                                                  \n",
            " bl_8 (Conv2D)                  (None, 28, 28, 128)  73856       ['bl_7[0][0]']                   \n",
            "                                                                                                  \n",
            " bl_9 (MaxPooling2D)            (None, 14, 14, 128)  0           ['bl_8[0][0]']                   \n",
            "                                                                                                  \n",
            " bl_10 (Conv2D)                 (None, 14, 14, 256)  295168      ['bl_9[0][0]']                   \n",
            "                                                                                                  \n",
            " bl_11 (MaxPooling2D)           (None, 7, 7, 256)    0           ['bl_10[0][0]']                  \n",
            "                                                                                                  \n",
            " bl_12 (Flatten)                (None, 12544)        0           ['bl_11[0][0]']                  \n",
            "                                                                                                  \n",
            " bb_1 (Dense)                   (None, 128)          1605760     ['bl_12[0][0]']                  \n",
            "                                                                                                  \n",
            " bb_2 (Dense)                   (None, 64)           8256        ['bb_1[0][0]']                   \n",
            "                                                                                                  \n",
            " cl_3 (Dense)                   (None, 32)           401440      ['bl_12[0][0]']                  \n",
            "                                                                                                  \n",
            " bb_3 (Dense)                   (None, 32)           2080        ['bb_2[0][0]']                   \n",
            "                                                                                                  \n",
            " cl_head (Dense)                (None, 2)            66          ['cl_3[0][0]']                   \n",
            "                                                                                                  \n",
            " bb_head (Dense)                (None, 4)            132         ['bb_3[0][0]']                   \n",
            "                                                                                                  \n",
            "==================================================================================================\n",
            "Total params: 2,410,342\n",
            "Trainable params: 2,410,342\n",
            "Non-trainable params: 0\n",
            "__________________________________________________________________________________________________\n"
          ]
        }
      ]
    },
    {
      "cell_type": "code",
      "source": [],
      "metadata": {
        "id": "pGtQo9BOWGyG"
      },
      "execution_count": null,
      "outputs": []
    },
    {
      "cell_type": "markdown",
      "source": [
        "# Data Collection\n",
        "\n",
        "1. Collecting data for Classification:\n",
        "  - Making dataset consist of images, class_id, coord.\n",
        "  - Images consist of 0:mouse and 1:non-mouse. \n",
        "  - for classification keep the coords 0's.\n",
        "\n",
        "2. Collecting data for Regression head:\n",
        "  - Making dataset consist of images, class_id, coord.\n",
        "  - Images consist of annotated images of mouse and non-mouse (no annotation).\n",
        "  - for regression keep mouse coord, rest non-mouse coords as 0's.\n",
        "   \n",
        "\n",
        "\n"
      ],
      "metadata": {
        "id": "kujbAati7xBr"
      }
    },
    {
      "cell_type": "markdown",
      "source": [
        "## Getthing the Classification data and merging them"
      ],
      "metadata": {
        "id": "2m-QI1Us0EKJ"
      }
    },
    {
      "cell_type": "markdown",
      "source": [
        "### Getting X:"
      ],
      "metadata": {
        "id": "Q2TDvSLi9Ic0"
      }
    },
    {
      "cell_type": "code",
      "source": [
        "def x_classif_data(x_path, no_mouse=False):\n",
        "\n",
        "    # get this Image file [in sequence]\n",
        "    xdata = [x_path.format(i) for i in range(0, 700)]\n",
        "\n",
        "\n",
        "    # check if above exist then import then get the file in list\n",
        "    fileX = [f for f in xdata if isfile(f)]\n",
        "    print(len(fileX))\n",
        "\n",
        "\n",
        "    if no_mouse==False:\n",
        "\n",
        "      ### now getting the content of the fileX in csv format so that we can merge them in pd dataframes\n",
        "      with open('/content/x_classif_mouse_training.csv','w') as f:\n",
        "        for x in fileX:\n",
        "          f.write(str(x))\n",
        "          f.write('\\n')\n",
        "\n",
        "    else:\n",
        "\n",
        "      ### now getting the content of the fileX in csv format so that we can merge them in pd dataframes\n",
        "      with open('/content/x_classif_no_mouse_training.csv','w') as f:\n",
        "        for x in fileX:\n",
        "          f.write(str(x))\n",
        "          f.write('\\n')\n",
        "\n",
        "\n",
        "\n",
        "\n",
        "path = \"/content/classification_data/mouse/Frame({}).jpg\"\n",
        "x_classif_data(path, no_mouse=False)\n",
        "\n",
        "\n",
        "path = \"/content/classification_data/no_mouse/Frame({}).jpg\"\n",
        "x_classif_data(path, no_mouse=True)\n"
      ],
      "metadata": {
        "colab": {
          "base_uri": "https://localhost:8080/"
        },
        "id": "-gIuYC12-Uya",
        "outputId": "e0a21d4d-fb75-4f7d-e64b-006c7e4dc20a"
      },
      "execution_count": null,
      "outputs": [
        {
          "output_type": "stream",
          "name": "stdout",
          "text": [
            "94\n",
            "94\n"
          ]
        }
      ]
    },
    {
      "cell_type": "markdown",
      "source": [
        "### Getting Y:"
      ],
      "metadata": {
        "id": "YK_Pwg_L9QaW"
      }
    },
    {
      "cell_type": "code",
      "source": [
        "# making the y_data csv file consist of class_ID as 0 len x_data = len_y_data\n",
        "\n",
        "def y_classif_data(x_path, no_mouse=False):\n",
        "\n",
        "    # get this Image file [in sequence]\n",
        "    xdata = [x_path.format(i) for i in range(0, 700)]\n",
        "\n",
        " \n",
        "\n",
        "    # check if above exist then import then get the file in list\n",
        "    fileX = [f for f in xdata if isfile(f)]\n",
        "    print(len(fileX))\n",
        "\n",
        "\n",
        "    if no_mouse == False:\n",
        "\n",
        "      # writing 0 as class_id for image paths\n",
        "      with open('/content/y_classif_mouse_training.csv','w') as f:\n",
        "\n",
        "        for i in range(0,len(fileX)):\n",
        "          \n",
        "          lst = []\n",
        "\n",
        "          \n",
        "          # converting the label which is in string to num created in dic\n",
        "          for key, value in mclass.items():\n",
        "            if value == 'mouse':\n",
        "              \n",
        "              l = key\n",
        "          \n",
        "        \n",
        "          x = 0\n",
        "          y = 0\n",
        "          w = 0\n",
        "          h = 0\n",
        "\n",
        "          lst.append(l)\n",
        "          lst.append(x)\n",
        "          lst.append(y)\n",
        "          lst.append(w)\n",
        "          lst.append(h)\n",
        "            \n",
        "          \n",
        "          with open('/content/y_classif_mouse_training.csv', 'a') as fout:\n",
        "              \n",
        "            y_csv_output = csv.writer(fout)\n",
        "            y_csv_output.writerow(lst)\n",
        "\n",
        "          lst.clear()  # list cleared\n",
        "\n",
        "    else:\n",
        "      \n",
        "      # writing 0 as class_id for image paths\n",
        "      with open('/content/y_classif_no_mouse_training.csv','w') as f:\n",
        "\n",
        "        for i in range(0,len(fileX)):\n",
        "          \n",
        "          lst = []\n",
        "\n",
        "          \n",
        "          # converting the label which is in string to num created in dic\n",
        "          for key, value in mclass.items():\n",
        "            if value == 'no_object':\n",
        "                \n",
        "                l = key\n",
        "\n",
        "       \n",
        "          x = 0\n",
        "          y = 0\n",
        "          w = 0\n",
        "          h = 0\n",
        "\n",
        "          lst.append(l)\n",
        "          lst.append(x)\n",
        "          lst.append(y)\n",
        "          lst.append(w)\n",
        "          lst.append(h)\n",
        "            \n",
        "          \n",
        "          with open('/content/y_classif_no_mouse_training.csv', 'a') as fout:\n",
        "              \n",
        "            y_csv_output = csv.writer(fout)\n",
        "            y_csv_output.writerow(lst)\n",
        "\n",
        "          lst.clear()  # list cleared\n",
        "    \n",
        "\n",
        "\n",
        "\n",
        "\n",
        "path1 = \"/content/classification_data/mouse/Frame({}).jpg\"\n",
        "y_classif_data(path1, False)\n",
        "\n",
        "path2 = \"/content/classification_data/mouse/Frame({}).jpg\"\n",
        "y_classif_data(path2, True)\n",
        "\n"
      ],
      "metadata": {
        "colab": {
          "base_uri": "https://localhost:8080/"
        },
        "id": "hn4b-5K84qVi",
        "outputId": "a93bcaca-6733-4583-82b5-ec813bd12c55"
      },
      "execution_count": null,
      "outputs": [
        {
          "output_type": "stream",
          "name": "stdout",
          "text": [
            "94\n",
            "94\n"
          ]
        }
      ]
    },
    {
      "cell_type": "markdown",
      "source": [
        "### Combine Classsifying X and Y"
      ],
      "metadata": {
        "id": "quKdTRuIKeGk"
      }
    },
    {
      "cell_type": "code",
      "source": [
        "\n",
        "def classif_combine_xy(x_mouse_csv, x_no_mouse_csv, y_mouse_csv, y_no_mouse_csv):\n",
        "\n",
        "\n",
        "  ### Pandas work to get y_train.csv [consist of class + coordinates] ###\n",
        "  y1_data = pd.read_csv(y_mouse_csv, names = ['class','x','y','w','h'])\n",
        "  y1_df = pd.DataFrame(data = y1_data) \n",
        "\n",
        "  y2_data = pd.read_csv(y_no_mouse_csv, names = ['class','x','y','w','h'])\n",
        "  y2_df = pd.DataFrame(data = y2_data) \n",
        "\n",
        "\n",
        "  ## Pandas work to get x_train.csv [consist images] ###\n",
        "  x1_data = pd.read_csv(x_mouse_csv, names= ['path'])\n",
        "  x1_df = pd.DataFrame(data = x1_data) \n",
        "\n",
        "  x2_data = pd.read_csv(x_no_mouse_csv, names= ['path'])\n",
        "  x2_df = pd.DataFrame(data = x2_data) \n",
        "\n",
        "  \n",
        "  # concate x1,x2\n",
        "  X_classif_df = pd.concat([x1_df, x2_df], axis=0)\n",
        "  # concate y1, y2\n",
        "  Y_classif_df = pd.concat([y1_df, y2_df], axis = 0)\n",
        "\n",
        "\n",
        "  # verify\n",
        "  print('x',len(X_classif_df))\n",
        "  print('y',len(Y_classif_df))\n",
        "  \n",
        "\n",
        "  ####combine dataframe [consist of path + coordinates + class]  #######\n",
        "  classif_training_df = pd.concat([X_classif_df, Y_classif_df], axis=1)\n",
        "\n",
        "\n",
        "  return classif_training_df\n",
        "  \n",
        "\n",
        "\n",
        "pathx1 = '/content/x_classif_mouse_training.csv'\n",
        "pathx2 = '/content/x_classif_no_mouse_training.csv'\n",
        "\n",
        "pathy1 = '/content/y_classif_mouse_training.csv'\n",
        "pathy2 = '/content/y_classif_no_mouse_training.csv'\n",
        "\n",
        "\n",
        "classif_df = classif_combine_xy(pathx1, pathx2, pathy1, pathy2)\n",
        "\n",
        "classif_train = classif_df[:150]\n",
        "classif_test = classif_df[151:]\n",
        "\n",
        "print('train shape',classif_train.shape)\n",
        "print('test shape',classif_test.shape)\n",
        "\n",
        "\n"
      ],
      "metadata": {
        "id": "12MzJ2ZQIWw2",
        "colab": {
          "base_uri": "https://localhost:8080/"
        },
        "outputId": "52b0753d-be92-4501-930b-b63f822e379d"
      },
      "execution_count": null,
      "outputs": [
        {
          "output_type": "stream",
          "name": "stdout",
          "text": [
            "x 188\n",
            "y 188\n",
            "train shape (150, 6)\n",
            "test shape (37, 6)\n"
          ]
        }
      ]
    },
    {
      "cell_type": "markdown",
      "source": [
        "## Getting Localizing Data and merging them;"
      ],
      "metadata": {
        "id": "puRHYin1Y5_T"
      }
    },
    {
      "cell_type": "markdown",
      "source": [
        "### Getting X:"
      ],
      "metadata": {
        "id": "aFzuKHfWZzd6"
      }
    },
    {
      "cell_type": "code",
      "source": [
        "\n",
        "def x_localiz_data(x_path, objectExist=True):\n",
        "\n",
        "  if objectExist == True:\n",
        "\n",
        "    # get this Image file [in sequence]\n",
        "    xdata = [x_path.format(i) for i in range(0, 700)]\n",
        "\n",
        "\n",
        "    # check if above exist then import then get the file in list\n",
        "    fileX = [f for f in xdata if isfile(f)]\n",
        "    print(len(fileX))\n",
        "\n",
        "\n",
        "    ### now getting the content of the fileX in csv format so that we can merge them in pd dataframes\n",
        "    with open('/content/x_localiz_training.csv','w') as f:\n",
        "      for x in fileX:\n",
        "        f.write(str(x))\n",
        "        f.write('\\n')\n",
        "\n",
        "  else:\n",
        "\n",
        "    # get this Image file [in sequence]\n",
        "    xdata = [x_path.format(i) for i in range(0, 500)]\n",
        "\n",
        "\n",
        "    # check if above exist then import then get the file in list\n",
        "    fileX = [f for f in xdata if isfile(f)]\n",
        "    print(len(fileX))\n",
        "\n",
        "\n",
        "    ### now getting the content of the fileX in csv format so that we can merge them in pd dataframes\n",
        "    with open('/content/x_emptyobject_training.csv','w') as f:\n",
        "      for x in fileX:\n",
        "        f.write(str(x))\n",
        "        f.write('\\n')\n",
        "\n",
        "\n",
        "# for getting image path of localization image folder\n",
        "localiz_img_path = \"/content/localization_data/Frame({}).jpg\"\n",
        "\n",
        "# for getting image path of empty class image folder\n",
        "empty_class_img_path = \"/content/emptyObject_data/Frame({}).jpg\"\n",
        "\n",
        "\n",
        "\n",
        "# calling for localize x data\n",
        "x_localiz_data(localiz_img_path, True)\n",
        "\n",
        "\n",
        "# calling for empytyc class x data\n",
        "x_localiz_data(empty_class_img_path, False)\n",
        "\n"
      ],
      "metadata": {
        "id": "e7sgZpf3XJRg",
        "colab": {
          "base_uri": "https://localhost:8080/"
        },
        "outputId": "9f45f89c-9ef8-4dc0-a12e-242b33e245ea"
      },
      "execution_count": null,
      "outputs": [
        {
          "output_type": "stream",
          "name": "stdout",
          "text": [
            "86\n",
            "53\n"
          ]
        }
      ]
    },
    {
      "cell_type": "markdown",
      "source": [
        "### Getting Y:"
      ],
      "metadata": {
        "id": "2pdURYfmZ8cY"
      }
    },
    {
      "cell_type": "code",
      "source": [
        "\n",
        "def y_data(y_path, objectExist=True):\n",
        "\n",
        "  # initialize \n",
        "  l,x,y,w,h = 0,0,0,0,0      #some json fetching values\n",
        "  mclass = {'mouse': 0, 'No_Object':1}  # make dict classes with its unique int value\n",
        "  lst = []                   # for storing json collected values\n",
        "  global rtxt_files\n",
        "\n",
        "  if objectExist==True:\n",
        "\n",
        "    # START\n",
        "    # get this Image file [in sequence]\n",
        "    ydata = [y_path.format(i) for i in range(0, 700)]\n",
        "\n",
        "    # check if above exist then import then get the file in list\n",
        "    fileY = [f for f in ydata if isfile(f)]\n",
        "    print('y data length:',len(fileY))\n",
        "\n",
        "    lst = []\n",
        "\n",
        "    for i in fileY:\n",
        "      \n",
        "      rtxt_files = open(i, 'r')\n",
        "\n",
        "      mfile = rtxt_files.readline()\n",
        "      \n",
        "      lst.append(mfile)\n",
        "\n",
        "    print('lenght of list',len(lst))\n",
        "\n",
        "    wtxt_file = open('/content/y_path.txt','w')\n",
        "    \n",
        "\n",
        "    for i in lst:\n",
        "      wtxt_file.write(i)\n",
        "\n",
        "\n",
        "\n",
        "    # rtxt_files.close()\n",
        "    wtxt_file.close()\n",
        "\n",
        "\n",
        "    # read tab-delimited file\n",
        "    with open('y_path.txt','r') as fin:\n",
        "        cr = csv.reader(fin, delimiter=' ')\n",
        "        filecontents = [line for line in cr]\n",
        "\n",
        "\n",
        "    # write comma-delimited file (comma is the default delimiter)\n",
        "    with open('y_localiz_training.csv','w') as fou:\n",
        "        cw = csv.writer(fou, quotechar='', quoting=csv.QUOTE_NONE)\n",
        "        cw.writerows(filecontents)\n",
        "\n",
        "\n",
        "  else:\n",
        "\n",
        "    ydata = [y_path.format(i) for i in range(0, 700)]\n",
        "\n",
        "    # check if above exist then import then get the file in list\n",
        "    fileY = [f for f in ydata if isfile(f)]\n",
        "    print('non object y data length:',len(fileY))\n",
        "\n",
        "\n",
        "    print('length of fileY', len(fileY))\n",
        "    for _ in range(0, len(fileY) ):\n",
        "\n",
        "      lst = []\n",
        "\n",
        "        \n",
        "      # converting the label which is in string to num created in dic\n",
        "      for key, value in mclass.items():\n",
        "        if key == 'No_Object':\n",
        "            \n",
        "            l = value\n",
        "\n",
        "      x = 0\n",
        "      y = 0\n",
        "      w = 0\n",
        "      h = 0\n",
        "\n",
        "      lst.append(l)\n",
        "      lst.append(x)\n",
        "      lst.append(y)\n",
        "      lst.append(w)\n",
        "      lst.append(h)\n",
        "        \n",
        "      \n",
        "      with open('/content/y_emptyobject_training.csv', 'a') as fout:\n",
        "          \n",
        "        y_csv_output = csv.writer(fout)\n",
        "        y_csv_output.writerow(lst)\n",
        "\n",
        "      lst.clear()  # list cleared \n",
        "\n",
        "\n",
        "\n",
        "# localization y-data path \n",
        "localiz_json = \"/content/localization_data/Frame({}).txt\"\n",
        "\n",
        "\n",
        "# non existing class object path\n",
        "empty_class = \"/content/emptyObject_data/Frame({}).jpg\"\n",
        "\n",
        "\n",
        "\n",
        "# calling when object does exist in image\n",
        "y_data(localiz_json, objectExist = True)\n",
        "\n",
        "\n",
        "# calling when object doesn't exist in image\n",
        "y_data(empty_class, objectExist = False)\n"
      ],
      "metadata": {
        "id": "ScVKTLmHXJTp",
        "colab": {
          "base_uri": "https://localhost:8080/"
        },
        "outputId": "72588a56-9882-4fe9-e16c-2999e5b7e397"
      },
      "execution_count": null,
      "outputs": [
        {
          "output_type": "stream",
          "name": "stdout",
          "text": [
            "y data length: 86\n",
            "lenght of list 86\n",
            "non object y data length: 53\n",
            "length of fileY 53\n"
          ]
        }
      ]
    },
    {
      "cell_type": "markdown",
      "source": [
        "### Combine localize X and Y:"
      ],
      "metadata": {
        "id": "3xr-GPYZaHfu"
      }
    },
    {
      "cell_type": "code",
      "source": [
        "\n",
        "def combine_xy_csv(x_csv_path, y_csv_path, objectExist=True):\n",
        "\n",
        "  ### Pandas work to get y_train.csv [consist of class + coordinates] ###\n",
        "  y_data = pd.read_csv(y_csv_path, names= ['class', 'x', 'y', 'w', 'h'])\n",
        "  y_df = pd.DataFrame(data=y_data) \n",
        "\n",
        "  ## Pandas work to get x_train.csv [consist images] ###\n",
        "  x_data = pd.read_csv(x_csv_path, names= ['path'])\n",
        "  x_df = pd.DataFrame(data = x_data) \n",
        "\n",
        "\n",
        "  if objectExist == True:\n",
        "    \n",
        "    # verify\n",
        "    print('x',x_df.shape)\n",
        "    print('y',y_df.shape)\n",
        "  \n",
        "    # spitting x,y df into train test:\n",
        "    x_train_df = x_df[:60]\n",
        "    x_test_df = x_df[61:]\n",
        "\n",
        "    y_train_df = y_df[:60]\n",
        "    y_test_df = y_df[61:]\n",
        "\n",
        "\n",
        "    ####combine dataframe [consist of path + coordinates + class]  #######\n",
        "    train_df = pd.concat([x_train_df, y_train_df], axis=\"columns\")\n",
        "    train_df.head()\n",
        "\n",
        "    test_df = pd.concat([x_test_df, y_test_df], axis=\"columns\")\n",
        "    test_df.head()\n",
        "\n",
        "\n",
        "  else:\n",
        "\n",
        "    print('x',x_df.shape)\n",
        "    print('y',y_df.shape)\n",
        "\n",
        "    # spitting x,y df into train test:\n",
        "    x_train_df = x_df[:39]\n",
        "    x_test_df = x_df[40:]\n",
        "\n",
        "    y_train_df = y_df[:39]\n",
        "    y_test_df = y_df[40:]\n",
        "      \n",
        "    ###combine dataframe [consist of path + coordinates + class]  #######\n",
        "    train_df = pd.concat([x_train_df, y_train_df], axis=\"columns\")\n",
        "    train_df.head()\n",
        "\n",
        "    test_df = pd.concat([x_test_df, y_test_df], axis=\"columns\")\n",
        "    test_df.head()\n",
        "\n",
        "  return train_df, test_df\n",
        "\n",
        "\n",
        "localize_x = '/content/x_localiz_training.csv'\n",
        "localize_y = '/content/y_localiz_training.csv'\n",
        "\n",
        "# non_object_x = '/content/x_emptyobject_training.csv'\n",
        "# non_object_y = '/content/y_emptyobject_training.csv'\n",
        "\n",
        "\n",
        "# calling localize\n",
        "local_train_df, local_test_df = combine_xy_csv(localize_x, localize_y, True)\n",
        "\n",
        "print('train',local_train_df.shape)\n",
        "print('test',local_test_df.shape)\n",
        "\n",
        "\n",
        "# # calling emptyObject\n",
        "# notobject_train_df, notobject_test_df = combine_xy_csv(non_object_x, non_object_y, False)\n",
        "\n",
        "# print('train',notobject_train_df.shape)\n",
        "# print('test',notobject_test_df.shape)\n"
      ],
      "metadata": {
        "id": "tatND5_vXJVc",
        "colab": {
          "base_uri": "https://localhost:8080/"
        },
        "outputId": "7f6b1f23-c575-4e6c-e851-b033effbd086"
      },
      "execution_count": null,
      "outputs": [
        {
          "output_type": "stream",
          "name": "stdout",
          "text": [
            "x (86, 1)\n",
            "y (86, 5)\n",
            "train (60, 6)\n",
            "test (25, 6)\n"
          ]
        }
      ]
    },
    {
      "cell_type": "markdown",
      "source": [
        "# Data Preprocessing:\n",
        "1. Will creating image_extractor funct from path.\n",
        "\n",
        "2. bring all the images from the path into an array will make x_data_gen funct.\n",
        "\n",
        "3. Also w'll define input x,y for model.fit(). \n",
        "For 2 times compiling the model.\n",
        "\n"
      ],
      "metadata": {
        "id": "0SwoPUKwaOc-"
      }
    },
    {
      "cell_type": "markdown",
      "source": [
        "### Creating image_extractor:"
      ],
      "metadata": {
        "id": "kWkyMgcv7nvh"
      }
    },
    {
      "cell_type": "code",
      "source": [
        "\n",
        "\n",
        "# preprocessing function()\n",
        "def img_preprocess(path):\n",
        "\n",
        "   # read the file from the path\n",
        "  image = tf.io.read_file(path)\n",
        "\n",
        "  #now to decode the file from previous readfile because it read the file and stored it in Machine language now we have to decode it \n",
        "  image = tf.image.decode_jpeg(image, channels=3)\n",
        "  \n",
        "  # image resize\n",
        "  # image = tf.image.resize(image, [224,224]) / 255. # EfficientNet needs this size\n",
        "  \n",
        "  # image resize\n",
        "  image = tf.image.resize(image, [224,224]) # EfficientNet needs this size\n",
        " \n",
        "  # labels = to_categorical(label, num_classes=2)  # num_classes are 2 ->(box,mouse)\n",
        "\n",
        "  return image\n",
        "\n",
        "\n",
        "# generating image matrix from path\n",
        "def x_data_gen(data):\n",
        "  \n",
        "  x_data_arr = []\n",
        "  \n",
        "\n",
        "  for i in data:\n",
        "    \n",
        "    # getting img matrix by passing paths\n",
        "    img = img_preprocess(i)\n",
        "\n",
        "    x_data_arr.append(img)\n",
        "\n",
        "  return np.array(x_data_arr)\n",
        "\n",
        "\n",
        "\n"
      ],
      "metadata": {
        "id": "o3AzlRJYXJXk"
      },
      "execution_count": null,
      "outputs": []
    },
    {
      "cell_type": "markdown",
      "source": [
        "### Preparing the arguments to pass in round_01 function:"
      ],
      "metadata": {
        "id": "yegiYLo078YW"
      }
    },
    {
      "cell_type": "code",
      "source": [
        "# paths to pass\n",
        "localize_x = '/content/x_localiz_training.csv'\n",
        "localize_y = '/content/y_localiz_training.csv'\n",
        "\n",
        "\n",
        "# calling combine_xy_csv to combine localizing x,y and return its train test\n",
        "local_train_df, local_test_df = combine_xy_csv(localize_x, localize_y, True)\n"
      ],
      "metadata": {
        "id": "SLY1gmbq774S",
        "colab": {
          "base_uri": "https://localhost:8080/"
        },
        "outputId": "7ded765c-3a53-4dba-e539-2224bb26cb7a"
      },
      "execution_count": null,
      "outputs": [
        {
          "output_type": "stream",
          "name": "stdout",
          "text": [
            "x (86, 1)\n",
            "y (86, 5)\n"
          ]
        }
      ]
    },
    {
      "cell_type": "markdown",
      "source": [
        "### Arranging X,Y for [1st round of training]:"
      ],
      "metadata": {
        "id": "Hu1IFzk31oZw"
      }
    },
    {
      "cell_type": "code",
      "source": [
        "\n",
        "def round_01_xy(local_train_df,local_test_df):\n",
        "\n",
        "  print('local_train_df-shape',local_train_df.shape)\n",
        "  print('local_test_df-shape',local_test_df.shape)\n",
        "\n",
        "  x_loc_train = local_train_df['path']\n",
        "  y_loc_train = local_train_df.iloc[:,1:]\n",
        "\n",
        "  x_loc_test = local_test_df['path']\n",
        "  y_loc_test = local_test_df.iloc[:,1:]\n",
        "\n",
        "\n",
        "  # convert x to array\n",
        "  x_loc_train = np.array(local_train_df['path'])\n",
        "  x_loc_test = np.array(local_test_df['path'])\n",
        "\n",
        "\n",
        "  # train X,Y loc data to be inserted for 1st round of training in model.fit\n",
        "  X_loc_train = x_data_gen(x_loc_train)\n",
        "  Y_loc_train = { 'cl_head': np.array(y_loc_train['class']), \n",
        "            'bb_head': np.array(y_loc_train[['x','y','w','h']]) }\n",
        "\n",
        "  # for verification\n",
        "  print('length of X_loc_train',len(X_loc_train))\n",
        "  print('length of Y_loc_train',len(Y_loc_train))\n",
        "\n",
        "\n",
        "  # test X,Y loc data to be inserted for 1st round of training in model.fit\n",
        "  X_loc_test = x_data_gen(x_loc_test)\n",
        "  Y_loc_test = { 'cl_head': np.array(y_loc_test['class']), \n",
        "              'bb_head': np.array(y_loc_test[['x','y','w','h']]) }\n",
        "\n",
        "  # for verification\n",
        "  print('length of X_loc_test',len(X_loc_test))\n",
        "  print('length of Y_loc_test',len(Y_loc_test))\n",
        "\n",
        "  # for verification\n",
        "  # print(Y_loc_test)\n",
        "\n",
        "  return X_loc_train, Y_loc_train, X_loc_test, Y_loc_test\n",
        "\n",
        "\n",
        "\n",
        "X_loc_train, Y_loc_train, X_loc_test, Y_loc_test = round_01_xy(local_train_df, local_test_df, )\n"
      ],
      "metadata": {
        "id": "oKiCT2AiXJZe",
        "colab": {
          "base_uri": "https://localhost:8080/"
        },
        "outputId": "22dcf44f-5533-4b65-c5ee-36ba516b4eb8"
      },
      "execution_count": null,
      "outputs": [
        {
          "output_type": "stream",
          "name": "stdout",
          "text": [
            "local_train_df-shape (60, 6)\n",
            "local_test_df-shape (25, 6)\n",
            "length of X_loc_train 60\n",
            "length of Y_loc_train 2\n",
            "length of X_loc_test 25\n",
            "length of Y_loc_test 2\n"
          ]
        }
      ]
    },
    {
      "cell_type": "markdown",
      "source": [
        "### Preparing the argument to pass in round_02 function:"
      ],
      "metadata": {
        "id": "VT_6pYUg9kSo"
      }
    },
    {
      "cell_type": "code",
      "source": [
        "\n",
        "# paths to pass\n",
        "pathx1 = '/content/x_classif_mouse_training.csv'\n",
        "pathx2 = '/content/x_classif_no_mouse_training.csv'\n",
        "\n",
        "pathy1 = '/content/y_classif_mouse_training.csv'\n",
        "pathy2 = '/content/y_classif_no_mouse_training.csv'\n",
        "\n",
        "\n",
        "localize_x = '/content/x_localiz_training.csv'\n",
        "localize_y = '/content/y_localiz_training.csv'\n",
        "\n",
        "\n",
        "# collecting the classif data consist of mouse and non_mouse images with coords 0\n",
        "classif_df = classif_combine_xy(pathx1, pathx2, pathy1, pathy2)\n",
        "# splitting classif_df into train and test\n",
        "classif_train_df = classif_df[:150]\n",
        "classif_test_df = classif_df[151:]\n",
        "\n",
        "\n",
        "# [NOTE]: no need to split into train test it already returned as train,test\n",
        "# calling combine_xy_csv to combine localizing x,y and return its train test\n",
        "local_train_df, local_test_df = combine_xy_csv(localize_x, localize_y, True)\n",
        "\n"
      ],
      "metadata": {
        "id": "ZQOx2mQL9lsJ",
        "colab": {
          "base_uri": "https://localhost:8080/"
        },
        "outputId": "e993edea-7437-4568-a611-109c1248e63b"
      },
      "execution_count": null,
      "outputs": [
        {
          "output_type": "stream",
          "name": "stdout",
          "text": [
            "x 188\n",
            "y 188\n",
            "x (86, 1)\n",
            "y (86, 5)\n"
          ]
        }
      ]
    },
    {
      "cell_type": "markdown",
      "source": [
        "### Arranging X,Y for [2nd round of training]:"
      ],
      "metadata": {
        "id": "2ir7y_s060ip"
      }
    },
    {
      "cell_type": "code",
      "source": [
        "\n",
        "def round_02(local_train_df, local_test_df, classif_train_df, classif_test_df):\n",
        "\n",
        "  ### combine localize_train and classif_train###\n",
        "  combined_train_df = pd.concat( [local_train_df, classif_train_df], \n",
        "                            axis = 0, ignore_index=True )\n",
        "  print('combine_train shape: ',combined_train_df.shape)   \n",
        "\n",
        "  # shuffle the DataFrame rows\n",
        "  combined_train_df = combined_train_df.sample(frac = 1, ignore_index=True)\n",
        "\n",
        "  combined_train_df.head()   # for verification\n",
        "\n",
        "\n",
        "\n",
        "  ### combine localize_test and nonobject_test ###\n",
        "  combined_test_df = pd.concat( [local_test_df, classif_test_df], \n",
        "                           axis = 0, ignore_index=True )\n",
        "  print('combine_test shape: ',combined_test_df.shape)   \n",
        "\n",
        "\n",
        "  # shuffle the DataFrame rows\n",
        "  combined_test_df = combined_test_df.sample(frac = 1, ignore_index=True)\n",
        "\n",
        "  combined_test_df.head()   # for verification\n",
        "\n",
        "\n",
        "  # Now extracting X,Y from cobined train, test df for model.fit() in 2nd round.\n",
        "  x_combined_train = np.array(combined_train_df['path'])\n",
        "  x_combined_test = np.array(combined_test_df['path'])\n",
        "\n",
        "  y_combine_train = combined_train_df.iloc[:,1:]\n",
        "  y_combine_test = combined_test_df.iloc[:,1:]\n",
        "\n",
        "\n",
        "  # train X,Y non data to be inserted for 2st round of training in model.fit\n",
        "  X_combine_train = x_data_gen(x_combined_train)\n",
        "  Y_combine_train = { 'cl_head': np.array(y_combine_train['class']), \n",
        "            'bb_head': np.array(y_combine_train[['x','y','w','h']]) }\n",
        "\n",
        "  # for verification\n",
        "  print('length of X_combine_train',len(X_combine_train))\n",
        "  print('length of Y_combine_train',len(Y_combine_train))\n",
        "\n",
        "  \n",
        "  # test X,Y non data to be inserted for 2nd round of training in model.fit\n",
        "  X_combine_test = x_data_gen(x_combined_test)\n",
        "  Y_combine_test = { 'cl_head': np.array(y_combine_test['class']), \n",
        "            'bb_head': np.array(y_combine_test[['x','y','w','h']]) }\n",
        "\n",
        "  # for verification\n",
        "  print('length of X_combine_test',len(X_combine_test))\n",
        "  print('length of Y_combine_test',len(Y_combine_test))\n",
        "  \n",
        "  \n",
        "  \n",
        "  return X_combine_train, Y_combine_train, X_combine_test, Y_combine_test, combined_train_df\n",
        "  \n",
        "\n",
        "\n",
        "# calling the function and getting the returned train test X,Y for model.fit() \n",
        "X_combine_train, Y_combine_train, X_combine_test, Y_combine_test, combined_train_df = round_02(local_train_df, local_test_df, classif_train_df, classif_test_df)\n",
        "\n",
        "\n"
      ],
      "metadata": {
        "id": "DWzN4eOe2e2K",
        "colab": {
          "base_uri": "https://localhost:8080/"
        },
        "outputId": "116f1c3c-728d-4585-b3be-89ae949473be"
      },
      "execution_count": null,
      "outputs": [
        {
          "output_type": "stream",
          "name": "stdout",
          "text": [
            "combine_train shape:  (210, 6)\n",
            "combine_test shape:  (62, 6)\n",
            "length of X_combine_train 210\n",
            "length of Y_combine_train 2\n",
            "length of X_combine_test 62\n",
            "length of Y_combine_test 2\n"
          ]
        }
      ]
    },
    {
      "cell_type": "markdown",
      "source": [
        "# Testing coordinates on image:\n",
        "\n",
        "\n",
        "Why we are testing?\n",
        "\n",
        "1. to check if xmin,xmax... is the format of what the labelimg has provided us in txt file or it has provided us x,y,w,h.\n",
        "\n",
        "2. Also to understand how the coordinates as adjusted if the size of the image gets changed.\n",
        "\n",
        "[CONCLUSION]:\n",
        "- coordinates are not in xmin,xmax... instead it is normalized x,y,w,h w.r.t the image size.\n",
        "[x = center, y = center, w = width, h = height]\n",
        "- hence before plotting we have to denormalised it and give the required coord for rectangle.\n",
        "\n",
        "- For the plt.rectangle we need xmin,ymin,w,h so we have to derive xmin,ymin from x,y,w,h.\n",
        "\n"
      ],
      "metadata": {
        "id": "JMkDsjUaEysR"
      }
    },
    {
      "cell_type": "code",
      "source": [
        "# CONVERT IMGE PATH TO IMAGE MATRIX\n",
        "def load_img_vis(input_img):\n",
        "\n",
        "  #reads the image using tf.io it just simply returns file as it is\n",
        "  image = tf.io.read_file(input_img) \n",
        "\n",
        "  # image we got from previous step is the image in our dataset which is .png format now decoding it\n",
        "  image = tf.image.decode_jpeg(image, channels=3)\n",
        "\n",
        "  # image channel was 1(gray scale) converting it to 3(bgr) AS matplot does accepts dim(x,y,1)\n",
        "  # image = tf.image.grayscale_to_rgb(image)\n",
        "\n",
        "  # type casting of image dtype from uint8 to float32\n",
        "  # [NOTE] ---> NORMALIZED PIXELS DOESN'T AFFECT COORDINATEs.\n",
        "  image = tf.cast(image,tf.float32) / 255. # Only for testing purpose, model automatically does this\n",
        "\n",
        "  # # image resize\n",
        "  image = tf.image.resize(image, [224,224])\n",
        "\n",
        "  print(image.shape)\n",
        "  img_width = image.shape[1] \n",
        "  img_height = image.shape[0]\n",
        "\n",
        "  print(img_width)\n",
        "  print(img_height)\n",
        "\n",
        "  return image, img_width, img_height\n",
        "\n",
        "\n",
        "\n",
        "\n",
        "# ADD BBOX\n",
        "def add_bbox_on_img(df,index):\n",
        "  \n",
        "  x, y, w, h = df.iloc[index][2:]\n",
        "  print('x-',x, 'y-',y, 'w-',w, 'h-',h)\n",
        "  \n",
        "  # plot patch\n",
        "  img,img_width,img_height = load_img_vis(df['path'].iloc[index])\n",
        "\n",
        "\n",
        "  ############################################\n",
        "  ### RESCALING THE COORD W.R.T IMAGE SIZE ###\n",
        "  ############################################\n",
        "\n",
        "  # x,y are center normalized by the width and height of the image\n",
        "  # w,h are the width n height of bbox normalized by image widht,height\n",
        "  width = w*img_width\n",
        "  height = h*img_height\n",
        "  x = (x)*img_width\n",
        "  y = (y)*img_height\n",
        "\n",
        "  print('denorm_x:',x ,'denorm_y:',y, 'denorm_w:',width, 'denorm_h:',height)\n",
        "\n",
        "\n",
        "  ### calculate xmin,ymin from denormalize x,y,w,h bcz rectangle need xmin,xmax##\n",
        "  xmin = (2*x-width)/2 \n",
        "  ymin = (2*y-height)/2\n",
        "  print('denorm_xmin-',xmin,'denorm_ymin-',ymin)\n",
        "\n",
        "  ## build rectangular patch\n",
        "  rectangle = plt.Rectangle((xmin,ymin), width, height, fill = False, linewidth=2, edgecolor='r')\n",
        "\n",
        "  # print('image array:', np.array(img))\n",
        "\n",
        "  fig, ax = plt.subplots()\n",
        "  ax.imshow(img)\n",
        "  # finally plotting patch\n",
        "  ax.add_patch(rectangle)\n",
        "  plt.show()\n",
        "\n",
        "\n",
        "\n",
        "# randomly creating the value\n",
        "i = np.random.randint(0,40)\n",
        "\n",
        "add_bbox_on_img(local_train_df,i)\n",
        "\n"
      ],
      "metadata": {
        "id": "9IIJ3wKg3aT2",
        "colab": {
          "base_uri": "https://localhost:8080/"
        },
        "outputId": "3546b925-b9d8-495b-c3c5-4ea28fb906a8"
      },
      "execution_count": null,
      "outputs": [
        {
          "output_type": "stream",
          "name": "stdout",
          "text": [
            "x- 0.447656 y- 0.55625 w- 0.157812 h- 0.308333\n",
            "(224, 224, 3)\n",
            "224\n",
            "224\n",
            "denorm_x: 100.274944 denorm_y: 124.60000000000001 denorm_w: 35.349888 denorm_h: 69.066592\n",
            "denorm_xmin- 82.60000000000001 denorm_ymin- 90.06670400000002\n"
          ]
        },
        {
          "output_type": "display_data",
          "data": {
            "text/plain": [
              "<Figure size 432x288 with 1 Axes>"
            ],
            "image/png": "[encoded data removed]"
          },
          "metadata": {
            "needs_background": "light"
          }
        }
      ]
    },
    {
      "cell_type": "markdown",
      "source": [
        "# Round-01:\n",
        "## Compile & fit"
      ],
      "metadata": {
        "id": "s-8BJZGzK2DZ"
      }
    },
    {
      "cell_type": "code",
      "source": [
        "\n",
        "# This learning rate fits better with SGD over adam for this situation\n",
        "# compiling \n",
        "# SGD(learning_rate=0.0001)\n",
        "model.compile( optimizer = SGD(learning_rate=0.0001),\n",
        "              loss = {'cl_head':tf.keras.losses.SparseCategoricalCrossentropy(), 'bb_head': tf.keras.losses.MeanSquaredError()},\n",
        "              metrics = {'cl_head':['accuracy'], 'bb_head': ['mse'] } )\n",
        "\n",
        "batch_size = 5\n",
        "\n",
        "\n",
        "# training-[1st round with localizing data]\n",
        "model.fit(x = X_loc_train, y = Y_loc_train,\n",
        "          validation_data = (X_loc_test,Y_loc_test), \n",
        "          batch_size = batch_size, epochs = 100,\n",
        "          steps_per_epoch= len(X_loc_train)/batch_size)\n",
        "\n"
      ],
      "metadata": {
        "id": "htwsMMys3aRt",
        "colab": {
          "base_uri": "https://localhost:8080/"
        },
        "outputId": "06bf782f-1fc8-42ee-f4b9-7aec9df64528"
      },
      "execution_count": null,
      "outputs": [
        {
          "output_type": "stream",
          "name": "stdout",
          "text": [
            "Epoch 1/100\n",
            "12/12 [==============================] - 2s 43ms/step - loss: 0.1814 - cl_head_loss: 0.0011 - bb_head_loss: 0.1804 - cl_head_accuracy: 1.0000 - bb_head_mse: 0.1804 - val_loss: 0.2066 - val_cl_head_loss: 2.9562e-05 - val_bb_head_loss: 0.2066 - val_cl_head_accuracy: 1.0000 - val_bb_head_mse: 0.2066\n",
            "Epoch 2/100\n",
            "12/12 [==============================] - 0s 16ms/step - loss: 0.1627 - cl_head_loss: 4.8725e-05 - bb_head_loss: 0.1626 - cl_head_accuracy: 1.0000 - bb_head_mse: 0.1626 - val_loss: 0.1890 - val_cl_head_loss: 2.3969e-05 - val_bb_head_loss: 0.1890 - val_cl_head_accuracy: 1.0000 - val_bb_head_mse: 0.1890\n",
            "Epoch 3/100\n",
            "12/12 [==============================] - 0s 17ms/step - loss: 0.1347 - cl_head_loss: 6.4953e-05 - bb_head_loss: 0.1346 - cl_head_accuracy: 1.0000 - bb_head_mse: 0.1346 - val_loss: 0.1703 - val_cl_head_loss: 2.7955e-05 - val_bb_head_loss: 0.1703 - val_cl_head_accuracy: 1.0000 - val_bb_head_mse: 0.1703\n",
            "Epoch 4/100\n",
            "12/12 [==============================] - 0s 14ms/step - loss: 0.1153 - cl_head_loss: 5.7178e-05 - bb_head_loss: 0.1152 - cl_head_accuracy: 1.0000 - bb_head_mse: 0.1152 - val_loss: 0.1731 - val_cl_head_loss: 3.0258e-05 - val_bb_head_loss: 0.1731 - val_cl_head_accuracy: 1.0000 - val_bb_head_mse: 0.1731\n",
            "Epoch 5/100\n",
            "12/12 [==============================] - 0s 17ms/step - loss: 0.1028 - cl_head_loss: 5.5693e-05 - bb_head_loss: 0.1028 - cl_head_accuracy: 1.0000 - bb_head_mse: 0.1028 - val_loss: 0.1649 - val_cl_head_loss: 2.8756e-05 - val_bb_head_loss: 0.1649 - val_cl_head_accuracy: 1.0000 - val_bb_head_mse: 0.1649\n",
            "Epoch 6/100\n",
            "12/12 [==============================] - 0s 13ms/step - loss: 0.0975 - cl_head_loss: 4.6440e-05 - bb_head_loss: 0.0974 - cl_head_accuracy: 1.0000 - bb_head_mse: 0.0974 - val_loss: 0.1692 - val_cl_head_loss: 2.6782e-05 - val_bb_head_loss: 0.1692 - val_cl_head_accuracy: 1.0000 - val_bb_head_mse: 0.1692\n",
            "Epoch 7/100\n",
            "12/12 [==============================] - 0s 13ms/step - loss: 0.0915 - cl_head_loss: 4.0013e-05 - bb_head_loss: 0.0915 - cl_head_accuracy: 1.0000 - bb_head_mse: 0.0915 - val_loss: 0.1624 - val_cl_head_loss: 2.1447e-05 - val_bb_head_loss: 0.1624 - val_cl_head_accuracy: 1.0000 - val_bb_head_mse: 0.1624\n",
            "Epoch 8/100\n",
            "12/12 [==============================] - 0s 14ms/step - loss: 0.0909 - cl_head_loss: 3.3509e-05 - bb_head_loss: 0.0909 - cl_head_accuracy: 1.0000 - bb_head_mse: 0.0909 - val_loss: 0.1657 - val_cl_head_loss: 1.7933e-05 - val_bb_head_loss: 0.1657 - val_cl_head_accuracy: 1.0000 - val_bb_head_mse: 0.1657\n",
            "Epoch 9/100\n",
            "12/12 [==============================] - 0s 17ms/step - loss: 0.0888 - cl_head_loss: 2.7137e-05 - bb_head_loss: 0.0887 - cl_head_accuracy: 1.0000 - bb_head_mse: 0.0887 - val_loss: 0.1593 - val_cl_head_loss: 1.5954e-05 - val_bb_head_loss: 0.1593 - val_cl_head_accuracy: 1.0000 - val_bb_head_mse: 0.1593\n",
            "Epoch 10/100\n",
            "12/12 [==============================] - 0s 14ms/step - loss: 0.0893 - cl_head_loss: 2.5382e-05 - bb_head_loss: 0.0893 - cl_head_accuracy: 1.0000 - bb_head_mse: 0.0893 - val_loss: 0.1761 - val_cl_head_loss: 1.4972e-05 - val_bb_head_loss: 0.1761 - val_cl_head_accuracy: 1.0000 - val_bb_head_mse: 0.1761\n",
            "Epoch 11/100\n",
            "12/12 [==============================] - 0s 14ms/step - loss: 0.0878 - cl_head_loss: 2.2092e-05 - bb_head_loss: 0.0877 - cl_head_accuracy: 1.0000 - bb_head_mse: 0.0877 - val_loss: 0.1651 - val_cl_head_loss: 1.2588e-05 - val_bb_head_loss: 0.1651 - val_cl_head_accuracy: 1.0000 - val_bb_head_mse: 0.1651\n",
            "Epoch 12/100\n",
            "12/12 [==============================] - 0s 17ms/step - loss: 0.0874 - cl_head_loss: 1.9170e-05 - bb_head_loss: 0.0874 - cl_head_accuracy: 1.0000 - bb_head_mse: 0.0874 - val_loss: 0.1614 - val_cl_head_loss: 1.0633e-05 - val_bb_head_loss: 0.1614 - val_cl_head_accuracy: 1.0000 - val_bb_head_mse: 0.1614\n",
            "Epoch 13/100\n",
            "12/12 [==============================] - 0s 15ms/step - loss: 0.0865 - cl_head_loss: 1.7196e-05 - bb_head_loss: 0.0865 - cl_head_accuracy: 1.0000 - bb_head_mse: 0.0865 - val_loss: 0.1790 - val_cl_head_loss: 1.0647e-05 - val_bb_head_loss: 0.1790 - val_cl_head_accuracy: 1.0000 - val_bb_head_mse: 0.1790\n",
            "Epoch 14/100\n",
            "12/12 [==============================] - 0s 17ms/step - loss: 0.0857 - cl_head_loss: 1.6479e-05 - bb_head_loss: 0.0857 - cl_head_accuracy: 1.0000 - bb_head_mse: 0.0857 - val_loss: 0.1626 - val_cl_head_loss: 8.7927e-06 - val_bb_head_loss: 0.1626 - val_cl_head_accuracy: 1.0000 - val_bb_head_mse: 0.1626\n",
            "Epoch 15/100\n",
            "12/12 [==============================] - 0s 14ms/step - loss: 0.0858 - cl_head_loss: 1.4273e-05 - bb_head_loss: 0.0858 - cl_head_accuracy: 1.0000 - bb_head_mse: 0.0858 - val_loss: 0.1701 - val_cl_head_loss: 8.2300e-06 - val_bb_head_loss: 0.1701 - val_cl_head_accuracy: 1.0000 - val_bb_head_mse: 0.1701\n",
            "Epoch 16/100\n",
            "12/12 [==============================] - 0s 14ms/step - loss: 0.0850 - cl_head_loss: 1.3274e-05 - bb_head_loss: 0.0850 - cl_head_accuracy: 1.0000 - bb_head_mse: 0.0850 - val_loss: 0.1707 - val_cl_head_loss: 8.0870e-06 - val_bb_head_loss: 0.1706 - val_cl_head_accuracy: 1.0000 - val_bb_head_mse: 0.1706\n",
            "Epoch 17/100\n",
            "12/12 [==============================] - 0s 13ms/step - loss: 0.0848 - cl_head_loss: 1.2455e-05 - bb_head_loss: 0.0848 - cl_head_accuracy: 1.0000 - bb_head_mse: 0.0848 - val_loss: 0.1678 - val_cl_head_loss: 7.2669e-06 - val_bb_head_loss: 0.1678 - val_cl_head_accuracy: 1.0000 - val_bb_head_mse: 0.1678\n",
            "Epoch 18/100\n",
            "12/12 [==============================] - 0s 14ms/step - loss: 0.0837 - cl_head_loss: 1.1567e-05 - bb_head_loss: 0.0837 - cl_head_accuracy: 1.0000 - bb_head_mse: 0.0837 - val_loss: 0.1718 - val_cl_head_loss: 6.4944e-06 - val_bb_head_loss: 0.1718 - val_cl_head_accuracy: 1.0000 - val_bb_head_mse: 0.1718\n",
            "Epoch 19/100\n",
            "12/12 [==============================] - 0s 14ms/step - loss: 0.0831 - cl_head_loss: 1.0179e-05 - bb_head_loss: 0.0831 - cl_head_accuracy: 1.0000 - bb_head_mse: 0.0831 - val_loss: 0.1802 - val_cl_head_loss: 6.2274e-06 - val_bb_head_loss: 0.1802 - val_cl_head_accuracy: 1.0000 - val_bb_head_mse: 0.1802\n",
            "Epoch 20/100\n",
            "12/12 [==============================] - 0s 13ms/step - loss: 0.0827 - cl_head_loss: 9.1839e-06 - bb_head_loss: 0.0827 - cl_head_accuracy: 1.0000 - bb_head_mse: 0.0827 - val_loss: 0.1781 - val_cl_head_loss: 5.6600e-06 - val_bb_head_loss: 0.1781 - val_cl_head_accuracy: 1.0000 - val_bb_head_mse: 0.1781\n",
            "Epoch 21/100\n",
            "12/12 [==============================] - 0s 14ms/step - loss: 0.0833 - cl_head_loss: 8.9198e-06 - bb_head_loss: 0.0833 - cl_head_accuracy: 1.0000 - bb_head_mse: 0.0833 - val_loss: 0.1669 - val_cl_head_loss: 5.2165e-06 - val_bb_head_loss: 0.1669 - val_cl_head_accuracy: 1.0000 - val_bb_head_mse: 0.1669\n",
            "Epoch 22/100\n",
            "12/12 [==============================] - 0s 14ms/step - loss: 0.0839 - cl_head_loss: 8.2364e-06 - bb_head_loss: 0.0839 - cl_head_accuracy: 1.0000 - bb_head_mse: 0.0839 - val_loss: 0.1774 - val_cl_head_loss: 5.4168e-06 - val_bb_head_loss: 0.1774 - val_cl_head_accuracy: 1.0000 - val_bb_head_mse: 0.1774\n",
            "Epoch 23/100\n",
            "12/12 [==============================] - 0s 13ms/step - loss: 0.0824 - cl_head_loss: 7.8848e-06 - bb_head_loss: 0.0824 - cl_head_accuracy: 1.0000 - bb_head_mse: 0.0824 - val_loss: 0.1756 - val_cl_head_loss: 4.9590e-06 - val_bb_head_loss: 0.1756 - val_cl_head_accuracy: 1.0000 - val_bb_head_mse: 0.1756\n",
            "Epoch 24/100\n",
            "12/12 [==============================] - 0s 14ms/step - loss: 0.0821 - cl_head_loss: 7.4975e-06 - bb_head_loss: 0.0821 - cl_head_accuracy: 1.0000 - bb_head_mse: 0.0821 - val_loss: 0.1766 - val_cl_head_loss: 4.6205e-06 - val_bb_head_loss: 0.1766 - val_cl_head_accuracy: 1.0000 - val_bb_head_mse: 0.1766\n",
            "Epoch 25/100\n",
            "12/12 [==============================] - 0s 14ms/step - loss: 0.0814 - cl_head_loss: 6.9274e-06 - bb_head_loss: 0.0814 - cl_head_accuracy: 1.0000 - bb_head_mse: 0.0814 - val_loss: 0.1754 - val_cl_head_loss: 3.8671e-06 - val_bb_head_loss: 0.1754 - val_cl_head_accuracy: 1.0000 - val_bb_head_mse: 0.1754\n",
            "Epoch 26/100\n",
            "12/12 [==============================] - 0s 17ms/step - loss: 0.0801 - cl_head_loss: 6.0255e-06 - bb_head_loss: 0.0801 - cl_head_accuracy: 1.0000 - bb_head_mse: 0.0801 - val_loss: 0.1822 - val_cl_head_loss: 3.8766e-06 - val_bb_head_loss: 0.1822 - val_cl_head_accuracy: 1.0000 - val_bb_head_mse: 0.1822\n",
            "Epoch 27/100\n",
            "12/12 [==============================] - 0s 13ms/step - loss: 0.0799 - cl_head_loss: 5.5944e-06 - bb_head_loss: 0.0799 - cl_head_accuracy: 1.0000 - bb_head_mse: 0.0799 - val_loss: 0.1799 - val_cl_head_loss: 3.4570e-06 - val_bb_head_loss: 0.1799 - val_cl_head_accuracy: 1.0000 - val_bb_head_mse: 0.1799\n",
            "Epoch 28/100\n",
            "12/12 [==============================] - 0s 18ms/step - loss: 0.0786 - cl_head_loss: 5.2011e-06 - bb_head_loss: 0.0786 - cl_head_accuracy: 1.0000 - bb_head_mse: 0.0786 - val_loss: 0.1820 - val_cl_head_loss: 3.2901e-06 - val_bb_head_loss: 0.1820 - val_cl_head_accuracy: 1.0000 - val_bb_head_mse: 0.1820\n",
            "Epoch 29/100\n",
            "12/12 [==============================] - 0s 15ms/step - loss: 0.0781 - cl_head_loss: 4.9488e-06 - bb_head_loss: 0.0781 - cl_head_accuracy: 1.0000 - bb_head_mse: 0.0781 - val_loss: 0.1801 - val_cl_head_loss: 3.1042e-06 - val_bb_head_loss: 0.1801 - val_cl_head_accuracy: 1.0000 - val_bb_head_mse: 0.1801\n",
            "Epoch 30/100\n",
            "12/12 [==============================] - 0s 14ms/step - loss: 0.0775 - cl_head_loss: 4.6588e-06 - bb_head_loss: 0.0775 - cl_head_accuracy: 1.0000 - bb_head_mse: 0.0775 - val_loss: 0.1838 - val_cl_head_loss: 3.1280e-06 - val_bb_head_loss: 0.1838 - val_cl_head_accuracy: 1.0000 - val_bb_head_mse: 0.1838\n",
            "Epoch 31/100\n",
            "12/12 [==============================] - 0s 17ms/step - loss: 0.0763 - cl_head_loss: 4.3906e-06 - bb_head_loss: 0.0763 - cl_head_accuracy: 1.0000 - bb_head_mse: 0.0763 - val_loss: 0.1847 - val_cl_head_loss: 2.9993e-06 - val_bb_head_loss: 0.1847 - val_cl_head_accuracy: 1.0000 - val_bb_head_mse: 0.1847\n",
            "Epoch 32/100\n",
            "12/12 [==============================] - 0s 14ms/step - loss: 0.0770 - cl_head_loss: 4.1582e-06 - bb_head_loss: 0.0770 - cl_head_accuracy: 1.0000 - bb_head_mse: 0.0770 - val_loss: 0.1747 - val_cl_head_loss: 3.0374e-06 - val_bb_head_loss: 0.1747 - val_cl_head_accuracy: 1.0000 - val_bb_head_mse: 0.1747\n",
            "Epoch 33/100\n",
            "12/12 [==============================] - 0s 19ms/step - loss: 0.0730 - cl_head_loss: 4.1721e-06 - bb_head_loss: 0.0730 - cl_head_accuracy: 1.0000 - bb_head_mse: 0.0730 - val_loss: 0.1685 - val_cl_head_loss: 3.2472e-06 - val_bb_head_loss: 0.1685 - val_cl_head_accuracy: 1.0000 - val_bb_head_mse: 0.1685\n",
            "Epoch 34/100\n",
            "12/12 [==============================] - 0s 15ms/step - loss: 0.0516 - cl_head_loss: 4.2357e-06 - bb_head_loss: 0.0516 - cl_head_accuracy: 1.0000 - bb_head_mse: 0.0516 - val_loss: 0.1072 - val_cl_head_loss: 5.5837e-06 - val_bb_head_loss: 0.1072 - val_cl_head_accuracy: 1.0000 - val_bb_head_mse: 0.1072\n",
            "Epoch 35/100\n",
            "12/12 [==============================] - 0s 14ms/step - loss: 0.0281 - cl_head_loss: 6.2740e-06 - bb_head_loss: 0.0281 - cl_head_accuracy: 1.0000 - bb_head_mse: 0.0281 - val_loss: 0.1291 - val_cl_head_loss: 8.4684e-06 - val_bb_head_loss: 0.1290 - val_cl_head_accuracy: 1.0000 - val_bb_head_mse: 0.1290\n",
            "Epoch 36/100\n",
            "12/12 [==============================] - 0s 22ms/step - loss: 0.0218 - cl_head_loss: 7.3030e-06 - bb_head_loss: 0.0218 - cl_head_accuracy: 1.0000 - bb_head_mse: 0.0218 - val_loss: 0.1146 - val_cl_head_loss: 7.9630e-06 - val_bb_head_loss: 0.1146 - val_cl_head_accuracy: 1.0000 - val_bb_head_mse: 0.1146\n",
            "Epoch 37/100\n",
            "12/12 [==============================] - 0s 20ms/step - loss: 0.0168 - cl_head_loss: 6.6316e-06 - bb_head_loss: 0.0168 - cl_head_accuracy: 1.0000 - bb_head_mse: 0.0168 - val_loss: 0.1095 - val_cl_head_loss: 8.3015e-06 - val_bb_head_loss: 0.1095 - val_cl_head_accuracy: 1.0000 - val_bb_head_mse: 0.1095\n",
            "Epoch 38/100\n",
            "12/12 [==============================] - 0s 18ms/step - loss: 0.0155 - cl_head_loss: 6.9275e-06 - bb_head_loss: 0.0155 - cl_head_accuracy: 1.0000 - bb_head_mse: 0.0155 - val_loss: 0.1070 - val_cl_head_loss: 7.8486e-06 - val_bb_head_loss: 0.1070 - val_cl_head_accuracy: 1.0000 - val_bb_head_mse: 0.1070\n",
            "Epoch 39/100\n",
            "12/12 [==============================] - 0s 17ms/step - loss: 0.0137 - cl_head_loss: 7.2235e-06 - bb_head_loss: 0.0137 - cl_head_accuracy: 1.0000 - bb_head_mse: 0.0137 - val_loss: 0.1119 - val_cl_head_loss: 8.1966e-06 - val_bb_head_loss: 0.1119 - val_cl_head_accuracy: 1.0000 - val_bb_head_mse: 0.1119\n",
            "Epoch 40/100\n",
            "12/12 [==============================] - 0s 20ms/step - loss: 0.0148 - cl_head_loss: 7.3665e-06 - bb_head_loss: 0.0148 - cl_head_accuracy: 1.0000 - bb_head_mse: 0.0148 - val_loss: 0.1053 - val_cl_head_loss: 9.2122e-06 - val_bb_head_loss: 0.1053 - val_cl_head_accuracy: 1.0000 - val_bb_head_mse: 0.1053\n",
            "Epoch 41/100\n",
            "12/12 [==============================] - 0s 19ms/step - loss: 0.0110 - cl_head_loss: 7.5374e-06 - bb_head_loss: 0.0110 - cl_head_accuracy: 1.0000 - bb_head_mse: 0.0110 - val_loss: 0.1019 - val_cl_head_loss: 8.3492e-06 - val_bb_head_loss: 0.1019 - val_cl_head_accuracy: 1.0000 - val_bb_head_mse: 0.1019\n",
            "Epoch 42/100\n",
            "12/12 [==============================] - 0s 19ms/step - loss: 0.0098 - cl_head_loss: 7.3606e-06 - bb_head_loss: 0.0098 - cl_head_accuracy: 1.0000 - bb_head_mse: 0.0098 - val_loss: 0.1086 - val_cl_head_loss: 8.8880e-06 - val_bb_head_loss: 0.1086 - val_cl_head_accuracy: 1.0000 - val_bb_head_mse: 0.1086\n",
            "Epoch 43/100\n",
            "12/12 [==============================] - 0s 18ms/step - loss: 0.0094 - cl_head_loss: 7.4857e-06 - bb_head_loss: 0.0094 - cl_head_accuracy: 1.0000 - bb_head_mse: 0.0094 - val_loss: 0.1058 - val_cl_head_loss: 9.2218e-06 - val_bb_head_loss: 0.1058 - val_cl_head_accuracy: 1.0000 - val_bb_head_mse: 0.1058\n",
            "Epoch 44/100\n",
            "12/12 [==============================] - 0s 20ms/step - loss: 0.0092 - cl_head_loss: 7.7618e-06 - bb_head_loss: 0.0092 - cl_head_accuracy: 1.0000 - bb_head_mse: 0.0092 - val_loss: 0.1058 - val_cl_head_loss: 9.1932e-06 - val_bb_head_loss: 0.1058 - val_cl_head_accuracy: 1.0000 - val_bb_head_mse: 0.1058\n",
            "Epoch 45/100\n",
            "12/12 [==============================] - 0s 18ms/step - loss: 0.0080 - cl_head_loss: 7.5711e-06 - bb_head_loss: 0.0080 - cl_head_accuracy: 1.0000 - bb_head_mse: 0.0080 - val_loss: 0.1084 - val_cl_head_loss: 9.2504e-06 - val_bb_head_loss: 0.1084 - val_cl_head_accuracy: 1.0000 - val_bb_head_mse: 0.1084\n",
            "Epoch 46/100\n",
            "12/12 [==============================] - 0s 19ms/step - loss: 0.0074 - cl_head_loss: 8.0876e-06 - bb_head_loss: 0.0074 - cl_head_accuracy: 1.0000 - bb_head_mse: 0.0074 - val_loss: 0.0981 - val_cl_head_loss: 8.8022e-06 - val_bb_head_loss: 0.0981 - val_cl_head_accuracy: 1.0000 - val_bb_head_mse: 0.0981\n",
            "Epoch 47/100\n",
            "12/12 [==============================] - 0s 15ms/step - loss: 0.0073 - cl_head_loss: 7.6744e-06 - bb_head_loss: 0.0073 - cl_head_accuracy: 1.0000 - bb_head_mse: 0.0073 - val_loss: 0.0996 - val_cl_head_loss: 8.6019e-06 - val_bb_head_loss: 0.0996 - val_cl_head_accuracy: 1.0000 - val_bb_head_mse: 0.0996\n",
            "Epoch 48/100\n",
            "12/12 [==============================] - 0s 15ms/step - loss: 0.0071 - cl_head_loss: 7.6247e-06 - bb_head_loss: 0.0071 - cl_head_accuracy: 1.0000 - bb_head_mse: 0.0071 - val_loss: 0.1085 - val_cl_head_loss: 9.2838e-06 - val_bb_head_loss: 0.1085 - val_cl_head_accuracy: 1.0000 - val_bb_head_mse: 0.1085\n",
            "Epoch 49/100\n",
            "12/12 [==============================] - 0s 15ms/step - loss: 0.0075 - cl_head_loss: 7.9803e-06 - bb_head_loss: 0.0075 - cl_head_accuracy: 1.0000 - bb_head_mse: 0.0075 - val_loss: 0.1017 - val_cl_head_loss: 9.1789e-06 - val_bb_head_loss: 0.1017 - val_cl_head_accuracy: 1.0000 - val_bb_head_mse: 0.1017\n",
            "Epoch 50/100\n",
            "12/12 [==============================] - 0s 14ms/step - loss: 0.0063 - cl_head_loss: 7.9266e-06 - bb_head_loss: 0.0063 - cl_head_accuracy: 1.0000 - bb_head_mse: 0.0063 - val_loss: 0.1029 - val_cl_head_loss: 9.0454e-06 - val_bb_head_loss: 0.1029 - val_cl_head_accuracy: 1.0000 - val_bb_head_mse: 0.1029\n",
            "Epoch 51/100\n",
            "12/12 [==============================] - 0s 16ms/step - loss: 0.0064 - cl_head_loss: 7.8988e-06 - bb_head_loss: 0.0063 - cl_head_accuracy: 1.0000 - bb_head_mse: 0.0063 - val_loss: 0.0959 - val_cl_head_loss: 8.8785e-06 - val_bb_head_loss: 0.0959 - val_cl_head_accuracy: 1.0000 - val_bb_head_mse: 0.0959\n",
            "Epoch 52/100\n",
            "12/12 [==============================] - 0s 14ms/step - loss: 0.0059 - cl_head_loss: 7.7359e-06 - bb_head_loss: 0.0059 - cl_head_accuracy: 1.0000 - bb_head_mse: 0.0059 - val_loss: 0.1040 - val_cl_head_loss: 8.4160e-06 - val_bb_head_loss: 0.1040 - val_cl_head_accuracy: 1.0000 - val_bb_head_mse: 0.1040\n",
            "Epoch 53/100\n",
            "12/12 [==============================] - 0s 14ms/step - loss: 0.0060 - cl_head_loss: 7.5214e-06 - bb_head_loss: 0.0060 - cl_head_accuracy: 1.0000 - bb_head_mse: 0.0060 - val_loss: 0.0957 - val_cl_head_loss: 8.1060e-06 - val_bb_head_loss: 0.0957 - val_cl_head_accuracy: 1.0000 - val_bb_head_mse: 0.0957\n",
            "Epoch 54/100\n",
            "12/12 [==============================] - 0s 14ms/step - loss: 0.0058 - cl_head_loss: 7.6127e-06 - bb_head_loss: 0.0058 - cl_head_accuracy: 1.0000 - bb_head_mse: 0.0058 - val_loss: 0.1028 - val_cl_head_loss: 8.9309e-06 - val_bb_head_loss: 0.1028 - val_cl_head_accuracy: 1.0000 - val_bb_head_mse: 0.1028\n",
            "Epoch 55/100\n",
            "12/12 [==============================] - 0s 14ms/step - loss: 0.0060 - cl_head_loss: 7.5949e-06 - bb_head_loss: 0.0060 - cl_head_accuracy: 1.0000 - bb_head_mse: 0.0060 - val_loss: 0.1007 - val_cl_head_loss: 8.7402e-06 - val_bb_head_loss: 0.1006 - val_cl_head_accuracy: 1.0000 - val_bb_head_mse: 0.1006\n",
            "Epoch 56/100\n",
            "12/12 [==============================] - 0s 17ms/step - loss: 0.0056 - cl_head_loss: 7.8293e-06 - bb_head_loss: 0.0056 - cl_head_accuracy: 1.0000 - bb_head_mse: 0.0056 - val_loss: 0.1002 - val_cl_head_loss: 8.1060e-06 - val_bb_head_loss: 0.1002 - val_cl_head_accuracy: 1.0000 - val_bb_head_mse: 0.1002\n",
            "Epoch 57/100\n",
            "12/12 [==============================] - 0s 14ms/step - loss: 0.0052 - cl_head_loss: 7.3028e-06 - bb_head_loss: 0.0052 - cl_head_accuracy: 1.0000 - bb_head_mse: 0.0052 - val_loss: 0.0967 - val_cl_head_loss: 7.5434e-06 - val_bb_head_loss: 0.0967 - val_cl_head_accuracy: 1.0000 - val_bb_head_mse: 0.0967\n",
            "Epoch 58/100\n",
            "12/12 [==============================] - 0s 14ms/step - loss: 0.0055 - cl_head_loss: 6.9035e-06 - bb_head_loss: 0.0055 - cl_head_accuracy: 1.0000 - bb_head_mse: 0.0055 - val_loss: 0.0990 - val_cl_head_loss: 7.2239e-06 - val_bb_head_loss: 0.0990 - val_cl_head_accuracy: 1.0000 - val_bb_head_mse: 0.0990\n",
            "Epoch 59/100\n",
            "12/12 [==============================] - 0s 16ms/step - loss: 0.0053 - cl_head_loss: 6.8400e-06 - bb_head_loss: 0.0053 - cl_head_accuracy: 1.0000 - bb_head_mse: 0.0053 - val_loss: 0.0974 - val_cl_head_loss: 7.6721e-06 - val_bb_head_loss: 0.0974 - val_cl_head_accuracy: 1.0000 - val_bb_head_mse: 0.0974\n",
            "Epoch 60/100\n",
            "12/12 [==============================] - 0s 17ms/step - loss: 0.0060 - cl_head_loss: 7.1081e-06 - bb_head_loss: 0.0060 - cl_head_accuracy: 1.0000 - bb_head_mse: 0.0060 - val_loss: 0.1058 - val_cl_head_loss: 7.7866e-06 - val_bb_head_loss: 0.1058 - val_cl_head_accuracy: 1.0000 - val_bb_head_mse: 0.1058\n",
            "Epoch 61/100\n",
            "12/12 [==============================] - 0s 18ms/step - loss: 0.0046 - cl_head_loss: 6.8618e-06 - bb_head_loss: 0.0046 - cl_head_accuracy: 1.0000 - bb_head_mse: 0.0046 - val_loss: 0.0987 - val_cl_head_loss: 7.0857e-06 - val_bb_head_loss: 0.0987 - val_cl_head_accuracy: 1.0000 - val_bb_head_mse: 0.0987\n",
            "Epoch 62/100\n",
            "12/12 [==============================] - 0s 16ms/step - loss: 0.0047 - cl_head_loss: 6.6532e-06 - bb_head_loss: 0.0047 - cl_head_accuracy: 1.0000 - bb_head_mse: 0.0047 - val_loss: 0.1022 - val_cl_head_loss: 7.1906e-06 - val_bb_head_loss: 0.1022 - val_cl_head_accuracy: 1.0000 - val_bb_head_mse: 0.1022\n",
            "Epoch 63/100\n",
            "12/12 [==============================] - 0s 14ms/step - loss: 0.0053 - cl_head_loss: 6.6691e-06 - bb_head_loss: 0.0053 - cl_head_accuracy: 1.0000 - bb_head_mse: 0.0053 - val_loss: 0.0995 - val_cl_head_loss: 7.3098e-06 - val_bb_head_loss: 0.0995 - val_cl_head_accuracy: 1.0000 - val_bb_head_mse: 0.0995\n",
            "Epoch 64/100\n",
            "12/12 [==============================] - 0s 14ms/step - loss: 0.0046 - cl_head_loss: 6.6512e-06 - bb_head_loss: 0.0046 - cl_head_accuracy: 1.0000 - bb_head_mse: 0.0046 - val_loss: 0.0991 - val_cl_head_loss: 6.9474e-06 - val_bb_head_loss: 0.0991 - val_cl_head_accuracy: 1.0000 - val_bb_head_mse: 0.0991\n",
            "Epoch 65/100\n",
            "12/12 [==============================] - 0s 14ms/step - loss: 0.0047 - cl_head_loss: 6.5142e-06 - bb_head_loss: 0.0047 - cl_head_accuracy: 1.0000 - bb_head_mse: 0.0047 - val_loss: 0.0972 - val_cl_head_loss: 6.5755e-06 - val_bb_head_loss: 0.0972 - val_cl_head_accuracy: 1.0000 - val_bb_head_mse: 0.0972\n",
            "Epoch 66/100\n",
            "12/12 [==============================] - 0s 18ms/step - loss: 0.0043 - cl_head_loss: 6.1646e-06 - bb_head_loss: 0.0043 - cl_head_accuracy: 1.0000 - bb_head_mse: 0.0043 - val_loss: 0.0961 - val_cl_head_loss: 6.6375e-06 - val_bb_head_loss: 0.0961 - val_cl_head_accuracy: 1.0000 - val_bb_head_mse: 0.0961\n",
            "Epoch 67/100\n",
            "12/12 [==============================] - 0s 15ms/step - loss: 0.0041 - cl_head_loss: 6.2281e-06 - bb_head_loss: 0.0041 - cl_head_accuracy: 1.0000 - bb_head_mse: 0.0041 - val_loss: 0.0970 - val_cl_head_loss: 6.4753e-06 - val_bb_head_loss: 0.0970 - val_cl_head_accuracy: 1.0000 - val_bb_head_mse: 0.0970\n",
            "Epoch 68/100\n",
            "12/12 [==============================] - 0s 17ms/step - loss: 0.0039 - cl_head_loss: 6.1745e-06 - bb_head_loss: 0.0039 - cl_head_accuracy: 1.0000 - bb_head_mse: 0.0039 - val_loss: 0.0980 - val_cl_head_loss: 6.2179e-06 - val_bb_head_loss: 0.0980 - val_cl_head_accuracy: 1.0000 - val_bb_head_mse: 0.0980\n",
            "Epoch 69/100\n",
            "12/12 [==============================] - 0s 14ms/step - loss: 0.0044 - cl_head_loss: 6.0911e-06 - bb_head_loss: 0.0043 - cl_head_accuracy: 1.0000 - bb_head_mse: 0.0043 - val_loss: 0.0996 - val_cl_head_loss: 6.2512e-06 - val_bb_head_loss: 0.0996 - val_cl_head_accuracy: 1.0000 - val_bb_head_mse: 0.0996\n",
            "Epoch 70/100\n",
            "12/12 [==============================] - 0s 14ms/step - loss: 0.0046 - cl_head_loss: 5.8209e-06 - bb_head_loss: 0.0046 - cl_head_accuracy: 1.0000 - bb_head_mse: 0.0046 - val_loss: 0.0979 - val_cl_head_loss: 5.7601e-06 - val_bb_head_loss: 0.0979 - val_cl_head_accuracy: 1.0000 - val_bb_head_mse: 0.0979\n",
            "Epoch 71/100\n",
            "12/12 [==============================] - 0s 15ms/step - loss: 0.0043 - cl_head_loss: 5.4454e-06 - bb_head_loss: 0.0043 - cl_head_accuracy: 1.0000 - bb_head_mse: 0.0043 - val_loss: 0.0923 - val_cl_head_loss: 5.6075e-06 - val_bb_head_loss: 0.0923 - val_cl_head_accuracy: 1.0000 - val_bb_head_mse: 0.0923\n",
            "Epoch 72/100\n",
            "12/12 [==============================] - 0s 17ms/step - loss: 0.0040 - cl_head_loss: 5.3640e-06 - bb_head_loss: 0.0040 - cl_head_accuracy: 1.0000 - bb_head_mse: 0.0040 - val_loss: 0.0929 - val_cl_head_loss: 5.3453e-06 - val_bb_head_loss: 0.0929 - val_cl_head_accuracy: 1.0000 - val_bb_head_mse: 0.0929\n",
            "Epoch 73/100\n",
            "12/12 [==============================] - 0s 18ms/step - loss: 0.0046 - cl_head_loss: 5.4812e-06 - bb_head_loss: 0.0046 - cl_head_accuracy: 1.0000 - bb_head_mse: 0.0046 - val_loss: 0.0949 - val_cl_head_loss: 5.3024e-06 - val_bb_head_loss: 0.0949 - val_cl_head_accuracy: 1.0000 - val_bb_head_mse: 0.0949\n",
            "Epoch 74/100\n",
            "12/12 [==============================] - 0s 15ms/step - loss: 0.0041 - cl_head_loss: 5.2448e-06 - bb_head_loss: 0.0041 - cl_head_accuracy: 1.0000 - bb_head_mse: 0.0041 - val_loss: 0.0951 - val_cl_head_loss: 5.4406e-06 - val_bb_head_loss: 0.0951 - val_cl_head_accuracy: 1.0000 - val_bb_head_mse: 0.0951\n",
            "Epoch 75/100\n",
            "12/12 [==============================] - 0s 18ms/step - loss: 0.0040 - cl_head_loss: 5.2031e-06 - bb_head_loss: 0.0040 - cl_head_accuracy: 1.0000 - bb_head_mse: 0.0040 - val_loss: 0.0981 - val_cl_head_loss: 5.2547e-06 - val_bb_head_loss: 0.0981 - val_cl_head_accuracy: 1.0000 - val_bb_head_mse: 0.0981\n",
            "Epoch 76/100\n",
            "12/12 [==============================] - 0s 14ms/step - loss: 0.0038 - cl_head_loss: 5.1375e-06 - bb_head_loss: 0.0038 - cl_head_accuracy: 1.0000 - bb_head_mse: 0.0038 - val_loss: 0.0973 - val_cl_head_loss: 4.9543e-06 - val_bb_head_loss: 0.0973 - val_cl_head_accuracy: 1.0000 - val_bb_head_mse: 0.0973\n",
            "Epoch 77/100\n",
            "12/12 [==============================] - 0s 17ms/step - loss: 0.0038 - cl_head_loss: 4.8614e-06 - bb_head_loss: 0.0038 - cl_head_accuracy: 1.0000 - bb_head_mse: 0.0038 - val_loss: 0.0970 - val_cl_head_loss: 4.9209e-06 - val_bb_head_loss: 0.0970 - val_cl_head_accuracy: 1.0000 - val_bb_head_mse: 0.0970\n",
            "Epoch 78/100\n",
            "12/12 [==============================] - 0s 15ms/step - loss: 0.0036 - cl_head_loss: 4.7819e-06 - bb_head_loss: 0.0036 - cl_head_accuracy: 1.0000 - bb_head_mse: 0.0036 - val_loss: 0.0947 - val_cl_head_loss: 4.7349e-06 - val_bb_head_loss: 0.0947 - val_cl_head_accuracy: 1.0000 - val_bb_head_mse: 0.0947\n",
            "Epoch 79/100\n",
            "12/12 [==============================] - 0s 14ms/step - loss: 0.0039 - cl_head_loss: 4.5436e-06 - bb_head_loss: 0.0039 - cl_head_accuracy: 1.0000 - bb_head_mse: 0.0039 - val_loss: 0.1004 - val_cl_head_loss: 4.7159e-06 - val_bb_head_loss: 0.1004 - val_cl_head_accuracy: 1.0000 - val_bb_head_mse: 0.1004\n",
            "Epoch 80/100\n",
            "12/12 [==============================] - 0s 14ms/step - loss: 0.0042 - cl_head_loss: 4.7561e-06 - bb_head_loss: 0.0042 - cl_head_accuracy: 1.0000 - bb_head_mse: 0.0042 - val_loss: 0.0964 - val_cl_head_loss: 4.8494e-06 - val_bb_head_loss: 0.0964 - val_cl_head_accuracy: 1.0000 - val_bb_head_mse: 0.0964\n",
            "Epoch 81/100\n",
            "12/12 [==============================] - 0s 18ms/step - loss: 0.0033 - cl_head_loss: 4.7144e-06 - bb_head_loss: 0.0033 - cl_head_accuracy: 1.0000 - bb_head_mse: 0.0033 - val_loss: 0.0944 - val_cl_head_loss: 4.5251e-06 - val_bb_head_loss: 0.0944 - val_cl_head_accuracy: 1.0000 - val_bb_head_mse: 0.0944\n",
            "Epoch 82/100\n",
            "12/12 [==============================] - 0s 14ms/step - loss: 0.0034 - cl_head_loss: 4.3489e-06 - bb_head_loss: 0.0034 - cl_head_accuracy: 1.0000 - bb_head_mse: 0.0034 - val_loss: 0.0942 - val_cl_head_loss: 4.5204e-06 - val_bb_head_loss: 0.0942 - val_cl_head_accuracy: 1.0000 - val_bb_head_mse: 0.0942\n",
            "Epoch 83/100\n",
            "12/12 [==============================] - 0s 19ms/step - loss: 0.0034 - cl_head_loss: 4.3568e-06 - bb_head_loss: 0.0034 - cl_head_accuracy: 1.0000 - bb_head_mse: 0.0034 - val_loss: 0.0951 - val_cl_head_loss: 4.2057e-06 - val_bb_head_loss: 0.0951 - val_cl_head_accuracy: 1.0000 - val_bb_head_mse: 0.0951\n",
            "Epoch 84/100\n",
            "12/12 [==============================] - 0s 15ms/step - loss: 0.0034 - cl_head_loss: 4.2098e-06 - bb_head_loss: 0.0034 - cl_head_accuracy: 1.0000 - bb_head_mse: 0.0034 - val_loss: 0.0980 - val_cl_head_loss: 4.0149e-06 - val_bb_head_loss: 0.0980 - val_cl_head_accuracy: 1.0000 - val_bb_head_mse: 0.0980\n",
            "Epoch 85/100\n",
            "12/12 [==============================] - 0s 19ms/step - loss: 0.0033 - cl_head_loss: 4.1860e-06 - bb_head_loss: 0.0033 - cl_head_accuracy: 1.0000 - bb_head_mse: 0.0033 - val_loss: 0.0941 - val_cl_head_loss: 4.0817e-06 - val_bb_head_loss: 0.0941 - val_cl_head_accuracy: 1.0000 - val_bb_head_mse: 0.0941\n",
            "Epoch 86/100\n",
            "12/12 [==============================] - 0s 19ms/step - loss: 0.0032 - cl_head_loss: 4.0866e-06 - bb_head_loss: 0.0032 - cl_head_accuracy: 1.0000 - bb_head_mse: 0.0032 - val_loss: 0.0933 - val_cl_head_loss: 4.0912e-06 - val_bb_head_loss: 0.0933 - val_cl_head_accuracy: 1.0000 - val_bb_head_mse: 0.0933\n",
            "Epoch 87/100\n",
            "12/12 [==============================] - 0s 15ms/step - loss: 0.0032 - cl_head_loss: 4.0092e-06 - bb_head_loss: 0.0032 - cl_head_accuracy: 1.0000 - bb_head_mse: 0.0032 - val_loss: 0.0988 - val_cl_head_loss: 3.8814e-06 - val_bb_head_loss: 0.0988 - val_cl_head_accuracy: 1.0000 - val_bb_head_mse: 0.0988\n",
            "Epoch 88/100\n",
            "12/12 [==============================] - 0s 19ms/step - loss: 0.0034 - cl_head_loss: 4.0548e-06 - bb_head_loss: 0.0034 - cl_head_accuracy: 1.0000 - bb_head_mse: 0.0034 - val_loss: 0.0953 - val_cl_head_loss: 3.7622e-06 - val_bb_head_loss: 0.0953 - val_cl_head_accuracy: 1.0000 - val_bb_head_mse: 0.0953\n",
            "Epoch 89/100\n",
            "12/12 [==============================] - 0s 18ms/step - loss: 0.0032 - cl_head_loss: 3.9595e-06 - bb_head_loss: 0.0032 - cl_head_accuracy: 1.0000 - bb_head_mse: 0.0032 - val_loss: 0.0926 - val_cl_head_loss: 3.7098e-06 - val_bb_head_loss: 0.0926 - val_cl_head_accuracy: 1.0000 - val_bb_head_mse: 0.0926\n",
            "Epoch 90/100\n",
            "12/12 [==============================] - 0s 15ms/step - loss: 0.0027 - cl_head_loss: 3.9039e-06 - bb_head_loss: 0.0027 - cl_head_accuracy: 1.0000 - bb_head_mse: 0.0027 - val_loss: 0.0971 - val_cl_head_loss: 3.6239e-06 - val_bb_head_loss: 0.0971 - val_cl_head_accuracy: 1.0000 - val_bb_head_mse: 0.0971\n",
            "Epoch 91/100\n",
            "12/12 [==============================] - 0s 14ms/step - loss: 0.0029 - cl_head_loss: 3.7588e-06 - bb_head_loss: 0.0029 - cl_head_accuracy: 1.0000 - bb_head_mse: 0.0029 - val_loss: 0.0958 - val_cl_head_loss: 3.5143e-06 - val_bb_head_loss: 0.0958 - val_cl_head_accuracy: 1.0000 - val_bb_head_mse: 0.0958\n",
            "Epoch 92/100\n",
            "12/12 [==============================] - 0s 15ms/step - loss: 0.0031 - cl_head_loss: 3.7330e-06 - bb_head_loss: 0.0031 - cl_head_accuracy: 1.0000 - bb_head_mse: 0.0031 - val_loss: 0.0936 - val_cl_head_loss: 3.4094e-06 - val_bb_head_loss: 0.0936 - val_cl_head_accuracy: 1.0000 - val_bb_head_mse: 0.0936\n",
            "Epoch 93/100\n",
            "12/12 [==============================] - 0s 16ms/step - loss: 0.0027 - cl_head_loss: 3.5979e-06 - bb_head_loss: 0.0027 - cl_head_accuracy: 1.0000 - bb_head_mse: 0.0027 - val_loss: 0.0955 - val_cl_head_loss: 3.3521e-06 - val_bb_head_loss: 0.0955 - val_cl_head_accuracy: 1.0000 - val_bb_head_mse: 0.0955\n",
            "Epoch 94/100\n",
            "12/12 [==============================] - 0s 17ms/step - loss: 0.0027 - cl_head_loss: 3.4609e-06 - bb_head_loss: 0.0027 - cl_head_accuracy: 1.0000 - bb_head_mse: 0.0027 - val_loss: 0.0931 - val_cl_head_loss: 3.1805e-06 - val_bb_head_loss: 0.0931 - val_cl_head_accuracy: 1.0000 - val_bb_head_mse: 0.0931\n",
            "Epoch 95/100\n",
            "12/12 [==============================] - 0s 14ms/step - loss: 0.0025 - cl_head_loss: 3.4092e-06 - bb_head_loss: 0.0025 - cl_head_accuracy: 1.0000 - bb_head_mse: 0.0025 - val_loss: 0.0928 - val_cl_head_loss: 3.1900e-06 - val_bb_head_loss: 0.0928 - val_cl_head_accuracy: 1.0000 - val_bb_head_mse: 0.0928\n",
            "Epoch 96/100\n",
            "12/12 [==============================] - 0s 14ms/step - loss: 0.0025 - cl_head_loss: 3.3873e-06 - bb_head_loss: 0.0025 - cl_head_accuracy: 1.0000 - bb_head_mse: 0.0025 - val_loss: 0.0921 - val_cl_head_loss: 3.0851e-06 - val_bb_head_loss: 0.0921 - val_cl_head_accuracy: 1.0000 - val_bb_head_mse: 0.0921\n",
            "Epoch 97/100\n",
            "12/12 [==============================] - 0s 18ms/step - loss: 0.0026 - cl_head_loss: 3.2721e-06 - bb_head_loss: 0.0025 - cl_head_accuracy: 1.0000 - bb_head_mse: 0.0025 - val_loss: 0.0947 - val_cl_head_loss: 2.9707e-06 - val_bb_head_loss: 0.0947 - val_cl_head_accuracy: 1.0000 - val_bb_head_mse: 0.0947\n",
            "Epoch 98/100\n",
            "12/12 [==============================] - 0s 24ms/step - loss: 0.0025 - cl_head_loss: 3.2642e-06 - bb_head_loss: 0.0025 - cl_head_accuracy: 1.0000 - bb_head_mse: 0.0025 - val_loss: 0.0977 - val_cl_head_loss: 3.0660e-06 - val_bb_head_loss: 0.0977 - val_cl_head_accuracy: 1.0000 - val_bb_head_mse: 0.0977\n",
            "Epoch 99/100\n",
            "12/12 [==============================] - 0s 19ms/step - loss: 0.0027 - cl_head_loss: 3.2105e-06 - bb_head_loss: 0.0027 - cl_head_accuracy: 1.0000 - bb_head_mse: 0.0027 - val_loss: 0.0902 - val_cl_head_loss: 2.9611e-06 - val_bb_head_loss: 0.0902 - val_cl_head_accuracy: 1.0000 - val_bb_head_mse: 0.0902\n",
            "Epoch 100/100\n",
            "12/12 [==============================] - 0s 18ms/step - loss: 0.0024 - cl_head_loss: 3.2205e-06 - bb_head_loss: 0.0024 - cl_head_accuracy: 1.0000 - bb_head_mse: 0.0024 - val_loss: 0.0960 - val_cl_head_loss: 2.9564e-06 - val_bb_head_loss: 0.0960 - val_cl_head_accuracy: 1.0000 - val_bb_head_mse: 0.0960\n"
          ]
        },
        {
          "output_type": "execute_result",
          "data": {
            "text/plain": [
              "<keras.callbacks.History at 0x7f592c76a0a0>"
            ]
          },
          "metadata": {},
          "execution_count": 101
        }
      ]
    },
    {
      "cell_type": "code",
      "source": [
        "# When Using MobileNet\n",
        "# val_cl_head_accuracy: 1.0000 - val_bb_head_mse: 0.0790\n",
        "\n",
        "# after adding custom layer\n",
        "# val_cl_head_accuracy: 1.0000 - val_bb_head_mse: 0.0193\n",
        "\n",
        "\n",
        "# changing the mbileNet from V3-Large to V2\n",
        "# val_cl_head_accuracy: 1.0000 - val_bb_head_mse: 0.0116\n",
        "\n",
        "\n",
        "# using all the layers of mobileNet v2 without frezzing them\n",
        "# val_cl_head_accuracy: 1.0000 - val_bb_head_mse: 0.0162\n",
        "\n",
        "\n",
        "# using all the layers of MobileNetV3 large\n",
        "# val_cl_head_accuracy: 0.8400 - val_bb_head_mse: 0.0756\n"
      ],
      "metadata": {
        "id": "HrY1wIMi82kz"
      },
      "execution_count": null,
      "outputs": []
    },
    {
      "cell_type": "markdown",
      "source": [
        "# Freezing Process:\n",
        "- Before 2nd round of training we need to freeze rest of the layers and train only on classif layer."
      ],
      "metadata": {
        "id": "lviT6hlNIS5D"
      }
    },
    {
      "cell_type": "code",
      "source": [
        "\n",
        "# for layer in model.layers:\n",
        "#     if layer.name.startswith(('cl','Mob')):\n",
        "#         layer.trainable = True\n",
        "#     else:\n",
        "#       layer.trainable=False\n",
        "\n",
        "\n",
        "\n",
        "\n",
        "### Using 2nd model for freezing ####\n",
        "# for layer in model.layers:\n",
        "#     if layer.name.startswith('bl_'):\n",
        "#         layer.trainable = False\n",
        "        \n",
        "\n",
        "\n",
        "for layer in model.layers:\n",
        "    if layer.name.startswith('bb_'):\n",
        "        layer.trainable = False\n",
        "\n",
        "# for layer in model.layers:\n",
        "#     if layer.name.startswith('Mob'):\n",
        "#         layer.trainable = False\n",
        "\n"
      ],
      "metadata": {
        "id": "s4X382O_9z9o"
      },
      "execution_count": null,
      "outputs": []
    },
    {
      "cell_type": "code",
      "source": [
        "for layer in model.layers:\n",
        "  layer.trainable = True\n"
      ],
      "metadata": {
        "id": "hmC2hKSYXd4Q"
      },
      "execution_count": null,
      "outputs": []
    },
    {
      "cell_type": "code",
      "source": [
        "model.summary()"
      ],
      "metadata": {
        "id": "X5YXcyNbJjfE",
        "colab": {
          "base_uri": "https://localhost:8080/"
        },
        "outputId": "c4326238-c72a-48ec-8f0c-e3ae83840cc4"
      },
      "execution_count": null,
      "outputs": [
        {
          "output_type": "stream",
          "name": "stdout",
          "text": [
            "Model: \"model_9\"\n",
            "__________________________________________________________________________________________________\n",
            " Layer (type)                   Output Shape         Param #     Connected to                     \n",
            "==================================================================================================\n",
            " input_25 (InputLayer)          [(None, 224, 224, 3  0           []                               \n",
            "                                )]                                                                \n",
            "                                                                                                  \n",
            " bl_2 (Conv2D)                  (None, 224, 224, 16  448         ['input_25[0][0]']               \n",
            "                                )                                                                 \n",
            "                                                                                                  \n",
            " bl_3 (MaxPooling2D)            (None, 112, 112, 16  0           ['bl_2[0][0]']                   \n",
            "                                )                                                                 \n",
            "                                                                                                  \n",
            " bl_4 (Conv2D)                  (None, 112, 112, 32  4640        ['bl_3[0][0]']                   \n",
            "                                )                                                                 \n",
            "                                                                                                  \n",
            " bl_5 (MaxPooling2D)            (None, 56, 56, 32)   0           ['bl_4[0][0]']                   \n",
            "                                                                                                  \n",
            " bl_6 (Conv2D)                  (None, 56, 56, 64)   18496       ['bl_5[0][0]']                   \n",
            "                                                                                                  \n",
            " bl_7 (MaxPooling2D)            (None, 28, 28, 64)   0           ['bl_6[0][0]']                   \n",
            "                                                                                                  \n",
            " bl_8 (Conv2D)                  (None, 28, 28, 128)  73856       ['bl_7[0][0]']                   \n",
            "                                                                                                  \n",
            " bl_9 (MaxPooling2D)            (None, 14, 14, 128)  0           ['bl_8[0][0]']                   \n",
            "                                                                                                  \n",
            " bl_10 (Conv2D)                 (None, 14, 14, 256)  295168      ['bl_9[0][0]']                   \n",
            "                                                                                                  \n",
            " bl_11 (MaxPooling2D)           (None, 7, 7, 256)    0           ['bl_10[0][0]']                  \n",
            "                                                                                                  \n",
            " bl_12 (Flatten)                (None, 12544)        0           ['bl_11[0][0]']                  \n",
            "                                                                                                  \n",
            " bb_1 (Dense)                   (None, 128)          1605760     ['bl_12[0][0]']                  \n",
            "                                                                                                  \n",
            " bb_2 (Dense)                   (None, 64)           8256        ['bb_1[0][0]']                   \n",
            "                                                                                                  \n",
            " cl_3 (Dense)                   (None, 32)           401440      ['bl_12[0][0]']                  \n",
            "                                                                                                  \n",
            " bb_3 (Dense)                   (None, 32)           2080        ['bb_2[0][0]']                   \n",
            "                                                                                                  \n",
            " cl_head (Dense)                (None, 2)            66          ['cl_3[0][0]']                   \n",
            "                                                                                                  \n",
            " bb_head (Dense)                (None, 4)            132         ['bb_3[0][0]']                   \n",
            "                                                                                                  \n",
            "==================================================================================================\n",
            "Total params: 2,410,342\n",
            "Trainable params: 794,114\n",
            "Non-trainable params: 1,616,228\n",
            "__________________________________________________________________________________________________\n"
          ]
        }
      ]
    },
    {
      "cell_type": "code",
      "source": [
        "# Total params: 4,361,286\n",
        "# Trainable params: 1,520,454\n",
        "# Non-trainable params: 2,840,832\n",
        "\n",
        "\n",
        "\n",
        "# freezed only bb\n",
        "# Total params: 4,361,286\n",
        "# Trainable params: 1,501,666\n",
        "# Non-trainable params: 2,859,620\n",
        "\n",
        "\n",
        "\n"
      ],
      "metadata": {
        "id": "g98UGRUCDlym"
      },
      "execution_count": null,
      "outputs": []
    },
    {
      "cell_type": "markdown",
      "source": [
        "# Round-02\n",
        "## Compile & Fit"
      ],
      "metadata": {
        "id": "K1lf1a7O9zSt"
      }
    },
    {
      "cell_type": "code",
      "source": [
        "\n",
        "# SGD(learning_rate=0.01)\n",
        "# compiling \n",
        "model.compile( optimizer = SGD(learning_rate=0.00001),\n",
        "              loss = {'cl_head':tf.keras.losses.SparseCategoricalCrossentropy(), 'bb_head': tf.keras.losses.MeanSquaredError()},\n",
        "              metrics = {'cl_head':['accuracy'], 'bb_head': ['mse']} )\n",
        "\n",
        "batch_size = 8\n",
        "\n",
        "\n",
        "# X_combine_train, Y_combine_train, X_combine_test, Y_combine_test\n",
        "\n",
        "# training [1st round with localizing data]\n",
        "model.fit(x = X_combine_train,y = Y_combine_train,\n",
        "          validation_data = (X_combine_test,Y_combine_test), \n",
        "          batch_size = batch_size, epochs = 100,\n",
        "          steps_per_epoch= len(X_combine_train)/batch_size)\n",
        "\n",
        "\n"
      ],
      "metadata": {
        "id": "yB3_o36T3aO2",
        "colab": {
          "base_uri": "https://localhost:8080/"
        },
        "outputId": "cef219e8-c1c7-4113-96f4-93f57382eb5f"
      },
      "execution_count": null,
      "outputs": [
        {
          "output_type": "stream",
          "name": "stdout",
          "text": [
            "Epoch 1/100\n",
            "26/26 [==============================] - 2s 46ms/step - loss: 1.9846 - cl_head_loss: 1.7447 - bb_head_loss: 0.2399 - cl_head_accuracy: 0.7048 - bb_head_mse: 0.2399 - val_loss: 1.9468 - val_cl_head_loss: 1.6660 - val_bb_head_loss: 0.2809 - val_cl_head_accuracy: 0.5968 - val_bb_head_mse: 0.2809\n",
            "Epoch 2/100\n",
            "26/26 [==============================] - 0s 15ms/step - loss: 0.7112 - cl_head_loss: 0.5247 - bb_head_loss: 0.1865 - cl_head_accuracy: 0.8476 - bb_head_mse: 0.1865 - val_loss: 0.9447 - val_cl_head_loss: 0.7113 - val_bb_head_loss: 0.2334 - val_cl_head_accuracy: 0.7258 - val_bb_head_mse: 0.2334\n",
            "Epoch 3/100\n",
            "26/26 [==============================] - 0s 17ms/step - loss: 0.3951 - cl_head_loss: 0.2473 - bb_head_loss: 0.1478 - cl_head_accuracy: 0.9048 - bb_head_mse: 0.1478 - val_loss: 0.8798 - val_cl_head_loss: 0.6870 - val_bb_head_loss: 0.1928 - val_cl_head_accuracy: 0.6129 - val_bb_head_mse: 0.1928\n",
            "Epoch 4/100\n",
            "26/26 [==============================] - 0s 15ms/step - loss: 0.2662 - cl_head_loss: 0.1450 - bb_head_loss: 0.1212 - cl_head_accuracy: 0.9429 - bb_head_mse: 0.1212 - val_loss: 0.8639 - val_cl_head_loss: 0.6901 - val_bb_head_loss: 0.1737 - val_cl_head_accuracy: 0.6129 - val_bb_head_mse: 0.1737\n",
            "Epoch 5/100\n",
            "26/26 [==============================] - 0s 15ms/step - loss: 0.2367 - cl_head_loss: 0.1288 - bb_head_loss: 0.1079 - cl_head_accuracy: 0.9524 - bb_head_mse: 0.1079 - val_loss: 0.7018 - val_cl_head_loss: 0.5388 - val_bb_head_loss: 0.1630 - val_cl_head_accuracy: 0.7097 - val_bb_head_mse: 0.1630\n",
            "Epoch 6/100\n",
            "26/26 [==============================] - 0s 15ms/step - loss: 0.1830 - cl_head_loss: 0.0836 - bb_head_loss: 0.0993 - cl_head_accuracy: 0.9762 - bb_head_mse: 0.0993 - val_loss: 0.6208 - val_cl_head_loss: 0.4664 - val_bb_head_loss: 0.1544 - val_cl_head_accuracy: 0.7742 - val_bb_head_mse: 0.1544\n",
            "Epoch 7/100\n",
            "26/26 [==============================] - 0s 15ms/step - loss: 0.1515 - cl_head_loss: 0.0584 - bb_head_loss: 0.0931 - cl_head_accuracy: 0.9857 - bb_head_mse: 0.0931 - val_loss: 0.6774 - val_cl_head_loss: 0.5287 - val_bb_head_loss: 0.1487 - val_cl_head_accuracy: 0.7903 - val_bb_head_mse: 0.1487\n",
            "Epoch 8/100\n",
            "26/26 [==============================] - 0s 15ms/step - loss: 0.1391 - cl_head_loss: 0.0509 - bb_head_loss: 0.0882 - cl_head_accuracy: 0.9857 - bb_head_mse: 0.0882 - val_loss: 6.1690 - val_cl_head_loss: 6.0259 - val_bb_head_loss: 0.1432 - val_cl_head_accuracy: 0.4032 - val_bb_head_mse: 0.1432\n",
            "Epoch 9/100\n",
            "26/26 [==============================] - 0s 16ms/step - loss: 0.3107 - cl_head_loss: 0.2264 - bb_head_loss: 0.0843 - cl_head_accuracy: 0.9619 - bb_head_mse: 0.0843 - val_loss: 0.8747 - val_cl_head_loss: 0.7353 - val_bb_head_loss: 0.1394 - val_cl_head_accuracy: 0.6613 - val_bb_head_mse: 0.1394\n",
            "Epoch 10/100\n",
            "26/26 [==============================] - 0s 16ms/step - loss: 0.1366 - cl_head_loss: 0.0556 - bb_head_loss: 0.0810 - cl_head_accuracy: 0.9810 - bb_head_mse: 0.0810 - val_loss: 0.5978 - val_cl_head_loss: 0.4615 - val_bb_head_loss: 0.1363 - val_cl_head_accuracy: 0.6774 - val_bb_head_mse: 0.1363\n",
            "Epoch 11/100\n",
            "26/26 [==============================] - 0s 16ms/step - loss: 0.1247 - cl_head_loss: 0.0467 - bb_head_loss: 0.0781 - cl_head_accuracy: 0.9810 - bb_head_mse: 0.0781 - val_loss: 0.5827 - val_cl_head_loss: 0.4487 - val_bb_head_loss: 0.1340 - val_cl_head_accuracy: 0.8387 - val_bb_head_mse: 0.1340\n",
            "Epoch 12/100\n",
            "26/26 [==============================] - 0s 15ms/step - loss: 0.1104 - cl_head_loss: 0.0349 - bb_head_loss: 0.0756 - cl_head_accuracy: 0.9905 - bb_head_mse: 0.0756 - val_loss: 0.5517 - val_cl_head_loss: 0.4199 - val_bb_head_loss: 0.1317 - val_cl_head_accuracy: 0.8710 - val_bb_head_mse: 0.1317\n",
            "Epoch 13/100\n",
            "26/26 [==============================] - 0s 16ms/step - loss: 0.1020 - cl_head_loss: 0.0287 - bb_head_loss: 0.0733 - cl_head_accuracy: 0.9905 - bb_head_mse: 0.0733 - val_loss: 0.5384 - val_cl_head_loss: 0.4091 - val_bb_head_loss: 0.1293 - val_cl_head_accuracy: 0.8871 - val_bb_head_mse: 0.1293\n",
            "Epoch 14/100\n",
            "26/26 [==============================] - 0s 15ms/step - loss: 0.1065 - cl_head_loss: 0.0355 - bb_head_loss: 0.0710 - cl_head_accuracy: 0.9857 - bb_head_mse: 0.0710 - val_loss: 0.4890 - val_cl_head_loss: 0.3613 - val_bb_head_loss: 0.1277 - val_cl_head_accuracy: 0.8871 - val_bb_head_mse: 0.1277\n",
            "Epoch 15/100\n",
            "26/26 [==============================] - 0s 16ms/step - loss: 0.0912 - cl_head_loss: 0.0220 - bb_head_loss: 0.0692 - cl_head_accuracy: 0.9952 - bb_head_mse: 0.0692 - val_loss: 0.5223 - val_cl_head_loss: 0.3959 - val_bb_head_loss: 0.1264 - val_cl_head_accuracy: 0.8871 - val_bb_head_mse: 0.1264\n",
            "Epoch 16/100\n",
            "26/26 [==============================] - 0s 19ms/step - loss: 0.0884 - cl_head_loss: 0.0207 - bb_head_loss: 0.0677 - cl_head_accuracy: 0.9952 - bb_head_mse: 0.0677 - val_loss: 0.5303 - val_cl_head_loss: 0.4049 - val_bb_head_loss: 0.1254 - val_cl_head_accuracy: 0.8710 - val_bb_head_mse: 0.1254\n",
            "Epoch 17/100\n",
            "26/26 [==============================] - 0s 19ms/step - loss: 0.0899 - cl_head_loss: 0.0238 - bb_head_loss: 0.0661 - cl_head_accuracy: 0.9952 - bb_head_mse: 0.0661 - val_loss: 0.4790 - val_cl_head_loss: 0.3549 - val_bb_head_loss: 0.1241 - val_cl_head_accuracy: 0.8871 - val_bb_head_mse: 0.1241\n",
            "Epoch 18/100\n",
            "26/26 [==============================] - 1s 22ms/step - loss: 0.0825 - cl_head_loss: 0.0179 - bb_head_loss: 0.0646 - cl_head_accuracy: 1.0000 - bb_head_mse: 0.0646 - val_loss: 0.4645 - val_cl_head_loss: 0.3412 - val_bb_head_loss: 0.1234 - val_cl_head_accuracy: 0.8871 - val_bb_head_mse: 0.1234\n",
            "Epoch 19/100\n",
            "26/26 [==============================] - 1s 19ms/step - loss: 0.0812 - cl_head_loss: 0.0178 - bb_head_loss: 0.0633 - cl_head_accuracy: 0.9952 - bb_head_mse: 0.0633 - val_loss: 0.6039 - val_cl_head_loss: 0.4816 - val_bb_head_loss: 0.1222 - val_cl_head_accuracy: 0.8065 - val_bb_head_mse: 0.1222\n",
            "Epoch 20/100\n",
            "26/26 [==============================] - 1s 21ms/step - loss: 0.0797 - cl_head_loss: 0.0177 - bb_head_loss: 0.0620 - cl_head_accuracy: 1.0000 - bb_head_mse: 0.0620 - val_loss: 0.4659 - val_cl_head_loss: 0.3445 - val_bb_head_loss: 0.1214 - val_cl_head_accuracy: 0.8871 - val_bb_head_mse: 0.1214\n",
            "Epoch 21/100\n",
            "26/26 [==============================] - 0s 16ms/step - loss: 0.0757 - cl_head_loss: 0.0150 - bb_head_loss: 0.0607 - cl_head_accuracy: 1.0000 - bb_head_mse: 0.0607 - val_loss: 0.4499 - val_cl_head_loss: 0.3289 - val_bb_head_loss: 0.1210 - val_cl_head_accuracy: 0.8548 - val_bb_head_mse: 0.1210\n",
            "Epoch 22/100\n",
            "26/26 [==============================] - 0s 16ms/step - loss: 0.0750 - cl_head_loss: 0.0154 - bb_head_loss: 0.0596 - cl_head_accuracy: 0.9952 - bb_head_mse: 0.0596 - val_loss: 0.4683 - val_cl_head_loss: 0.3478 - val_bb_head_loss: 0.1205 - val_cl_head_accuracy: 0.8871 - val_bb_head_mse: 0.1205\n",
            "Epoch 23/100\n",
            "26/26 [==============================] - 0s 15ms/step - loss: 0.0724 - cl_head_loss: 0.0139 - bb_head_loss: 0.0586 - cl_head_accuracy: 1.0000 - bb_head_mse: 0.0586 - val_loss: 1.3123 - val_cl_head_loss: 1.1919 - val_bb_head_loss: 0.1205 - val_cl_head_accuracy: 0.4677 - val_bb_head_mse: 0.1205\n",
            "Epoch 24/100\n",
            "26/26 [==============================] - 0s 15ms/step - loss: 0.0812 - cl_head_loss: 0.0234 - bb_head_loss: 0.0578 - cl_head_accuracy: 0.9952 - bb_head_mse: 0.0578 - val_loss: 0.4360 - val_cl_head_loss: 0.3155 - val_bb_head_loss: 0.1205 - val_cl_head_accuracy: 0.8871 - val_bb_head_mse: 0.1205\n",
            "Epoch 25/100\n",
            "26/26 [==============================] - 0s 16ms/step - loss: 0.0696 - cl_head_loss: 0.0128 - bb_head_loss: 0.0568 - cl_head_accuracy: 1.0000 - bb_head_mse: 0.0568 - val_loss: 0.4290 - val_cl_head_loss: 0.3087 - val_bb_head_loss: 0.1203 - val_cl_head_accuracy: 0.8871 - val_bb_head_mse: 0.1203\n",
            "Epoch 26/100\n",
            "26/26 [==============================] - 0s 15ms/step - loss: 0.0679 - cl_head_loss: 0.0121 - bb_head_loss: 0.0558 - cl_head_accuracy: 1.0000 - bb_head_mse: 0.0558 - val_loss: 0.4286 - val_cl_head_loss: 0.3091 - val_bb_head_loss: 0.1196 - val_cl_head_accuracy: 0.8871 - val_bb_head_mse: 0.1196\n",
            "Epoch 27/100\n",
            "26/26 [==============================] - 0s 16ms/step - loss: 0.0642 - cl_head_loss: 0.0094 - bb_head_loss: 0.0547 - cl_head_accuracy: 1.0000 - bb_head_mse: 0.0547 - val_loss: 0.4500 - val_cl_head_loss: 0.3305 - val_bb_head_loss: 0.1195 - val_cl_head_accuracy: 0.8548 - val_bb_head_mse: 0.1195\n",
            "Epoch 28/100\n",
            "26/26 [==============================] - 0s 15ms/step - loss: 0.0653 - cl_head_loss: 0.0115 - bb_head_loss: 0.0538 - cl_head_accuracy: 1.0000 - bb_head_mse: 0.0538 - val_loss: 0.7601 - val_cl_head_loss: 0.6410 - val_bb_head_loss: 0.1190 - val_cl_head_accuracy: 0.6774 - val_bb_head_mse: 0.1190\n",
            "Epoch 29/100\n",
            "26/26 [==============================] - 0s 15ms/step - loss: 0.0670 - cl_head_loss: 0.0139 - bb_head_loss: 0.0531 - cl_head_accuracy: 0.9952 - bb_head_mse: 0.0531 - val_loss: 0.4795 - val_cl_head_loss: 0.3604 - val_bb_head_loss: 0.1191 - val_cl_head_accuracy: 0.8710 - val_bb_head_mse: 0.1191\n",
            "Epoch 30/100\n",
            "26/26 [==============================] - 0s 16ms/step - loss: 0.0631 - cl_head_loss: 0.0109 - bb_head_loss: 0.0522 - cl_head_accuracy: 1.0000 - bb_head_mse: 0.0522 - val_loss: 0.4026 - val_cl_head_loss: 0.2831 - val_bb_head_loss: 0.1195 - val_cl_head_accuracy: 0.9194 - val_bb_head_mse: 0.1195\n",
            "Epoch 31/100\n",
            "26/26 [==============================] - 0s 16ms/step - loss: 0.0613 - cl_head_loss: 0.0099 - bb_head_loss: 0.0514 - cl_head_accuracy: 1.0000 - bb_head_mse: 0.0514 - val_loss: 0.3988 - val_cl_head_loss: 0.2796 - val_bb_head_loss: 0.1192 - val_cl_head_accuracy: 0.9032 - val_bb_head_mse: 0.1192\n",
            "Epoch 32/100\n",
            "26/26 [==============================] - 0s 16ms/step - loss: 0.0593 - cl_head_loss: 0.0088 - bb_head_loss: 0.0505 - cl_head_accuracy: 1.0000 - bb_head_mse: 0.0505 - val_loss: 0.4018 - val_cl_head_loss: 0.2825 - val_bb_head_loss: 0.1193 - val_cl_head_accuracy: 0.8871 - val_bb_head_mse: 0.1193\n",
            "Epoch 33/100\n",
            "26/26 [==============================] - 0s 16ms/step - loss: 0.0585 - cl_head_loss: 0.0088 - bb_head_loss: 0.0497 - cl_head_accuracy: 1.0000 - bb_head_mse: 0.0497 - val_loss: 0.4178 - val_cl_head_loss: 0.2983 - val_bb_head_loss: 0.1195 - val_cl_head_accuracy: 0.9032 - val_bb_head_mse: 0.1195\n",
            "Epoch 34/100\n",
            "26/26 [==============================] - 0s 15ms/step - loss: 0.0575 - cl_head_loss: 0.0086 - bb_head_loss: 0.0489 - cl_head_accuracy: 1.0000 - bb_head_mse: 0.0489 - val_loss: 0.3928 - val_cl_head_loss: 0.2733 - val_bb_head_loss: 0.1195 - val_cl_head_accuracy: 0.9355 - val_bb_head_mse: 0.1195\n",
            "Epoch 35/100\n",
            "26/26 [==============================] - 0s 16ms/step - loss: 0.0568 - cl_head_loss: 0.0085 - bb_head_loss: 0.0483 - cl_head_accuracy: 1.0000 - bb_head_mse: 0.0483 - val_loss: 0.4022 - val_cl_head_loss: 0.2833 - val_bb_head_loss: 0.1190 - val_cl_head_accuracy: 0.9032 - val_bb_head_mse: 0.1190\n",
            "Epoch 36/100\n",
            "26/26 [==============================] - 0s 16ms/step - loss: 0.0556 - cl_head_loss: 0.0081 - bb_head_loss: 0.0475 - cl_head_accuracy: 1.0000 - bb_head_mse: 0.0475 - val_loss: 0.4169 - val_cl_head_loss: 0.2981 - val_bb_head_loss: 0.1188 - val_cl_head_accuracy: 0.9032 - val_bb_head_mse: 0.1188\n",
            "Epoch 37/100\n",
            "26/26 [==============================] - 0s 17ms/step - loss: 0.0549 - cl_head_loss: 0.0081 - bb_head_loss: 0.0468 - cl_head_accuracy: 1.0000 - bb_head_mse: 0.0468 - val_loss: 0.3842 - val_cl_head_loss: 0.2656 - val_bb_head_loss: 0.1186 - val_cl_head_accuracy: 0.9355 - val_bb_head_mse: 0.1186\n",
            "Epoch 38/100\n",
            "26/26 [==============================] - 0s 15ms/step - loss: 0.0538 - cl_head_loss: 0.0076 - bb_head_loss: 0.0462 - cl_head_accuracy: 1.0000 - bb_head_mse: 0.0462 - val_loss: 0.3845 - val_cl_head_loss: 0.2659 - val_bb_head_loss: 0.1187 - val_cl_head_accuracy: 0.9032 - val_bb_head_mse: 0.1187\n",
            "Epoch 39/100\n",
            "26/26 [==============================] - 0s 16ms/step - loss: 0.0529 - cl_head_loss: 0.0073 - bb_head_loss: 0.0456 - cl_head_accuracy: 1.0000 - bb_head_mse: 0.0456 - val_loss: 0.3977 - val_cl_head_loss: 0.2794 - val_bb_head_loss: 0.1184 - val_cl_head_accuracy: 0.9032 - val_bb_head_mse: 0.1184\n",
            "Epoch 40/100\n",
            "26/26 [==============================] - 0s 15ms/step - loss: 0.0529 - cl_head_loss: 0.0078 - bb_head_loss: 0.0451 - cl_head_accuracy: 1.0000 - bb_head_mse: 0.0451 - val_loss: 0.3997 - val_cl_head_loss: 0.2815 - val_bb_head_loss: 0.1182 - val_cl_head_accuracy: 0.9032 - val_bb_head_mse: 0.1182\n",
            "Epoch 41/100\n",
            "26/26 [==============================] - 0s 16ms/step - loss: 0.0518 - cl_head_loss: 0.0073 - bb_head_loss: 0.0445 - cl_head_accuracy: 1.0000 - bb_head_mse: 0.0445 - val_loss: 0.3858 - val_cl_head_loss: 0.2678 - val_bb_head_loss: 0.1180 - val_cl_head_accuracy: 0.9032 - val_bb_head_mse: 0.1180\n",
            "Epoch 42/100\n",
            "26/26 [==============================] - 0s 16ms/step - loss: 0.0506 - cl_head_loss: 0.0066 - bb_head_loss: 0.0440 - cl_head_accuracy: 1.0000 - bb_head_mse: 0.0440 - val_loss: 0.3791 - val_cl_head_loss: 0.2611 - val_bb_head_loss: 0.1179 - val_cl_head_accuracy: 0.9194 - val_bb_head_mse: 0.1179\n",
            "Epoch 43/100\n",
            "26/26 [==============================] - 0s 15ms/step - loss: 0.0503 - cl_head_loss: 0.0068 - bb_head_loss: 0.0435 - cl_head_accuracy: 1.0000 - bb_head_mse: 0.0435 - val_loss: 0.3694 - val_cl_head_loss: 0.2515 - val_bb_head_loss: 0.1178 - val_cl_head_accuracy: 0.9194 - val_bb_head_mse: 0.1178\n",
            "Epoch 44/100\n",
            "26/26 [==============================] - 0s 16ms/step - loss: 0.0494 - cl_head_loss: 0.0064 - bb_head_loss: 0.0430 - cl_head_accuracy: 1.0000 - bb_head_mse: 0.0430 - val_loss: 0.3866 - val_cl_head_loss: 0.2693 - val_bb_head_loss: 0.1173 - val_cl_head_accuracy: 0.9032 - val_bb_head_mse: 0.1173\n",
            "Epoch 45/100\n",
            "26/26 [==============================] - 1s 19ms/step - loss: 0.0488 - cl_head_loss: 0.0063 - bb_head_loss: 0.0425 - cl_head_accuracy: 1.0000 - bb_head_mse: 0.0425 - val_loss: 0.3847 - val_cl_head_loss: 0.2673 - val_bb_head_loss: 0.1174 - val_cl_head_accuracy: 0.9032 - val_bb_head_mse: 0.1174\n",
            "Epoch 46/100\n",
            "26/26 [==============================] - 1s 20ms/step - loss: 0.0480 - cl_head_loss: 0.0059 - bb_head_loss: 0.0421 - cl_head_accuracy: 1.0000 - bb_head_mse: 0.0421 - val_loss: 0.3671 - val_cl_head_loss: 0.2495 - val_bb_head_loss: 0.1176 - val_cl_head_accuracy: 0.9355 - val_bb_head_mse: 0.1176\n",
            "Epoch 47/100\n",
            "26/26 [==============================] - 1s 22ms/step - loss: 0.0479 - cl_head_loss: 0.0063 - bb_head_loss: 0.0417 - cl_head_accuracy: 1.0000 - bb_head_mse: 0.0417 - val_loss: 0.3782 - val_cl_head_loss: 0.2610 - val_bb_head_loss: 0.1172 - val_cl_head_accuracy: 0.9032 - val_bb_head_mse: 0.1172\n",
            "Epoch 48/100\n",
            "26/26 [==============================] - 1s 19ms/step - loss: 0.0473 - cl_head_loss: 0.0061 - bb_head_loss: 0.0413 - cl_head_accuracy: 1.0000 - bb_head_mse: 0.0413 - val_loss: 0.4539 - val_cl_head_loss: 0.3364 - val_bb_head_loss: 0.1175 - val_cl_head_accuracy: 0.8548 - val_bb_head_mse: 0.1175\n",
            "Epoch 49/100\n",
            "26/26 [==============================] - 1s 22ms/step - loss: 0.0484 - cl_head_loss: 0.0074 - bb_head_loss: 0.0410 - cl_head_accuracy: 1.0000 - bb_head_mse: 0.0410 - val_loss: 0.3623 - val_cl_head_loss: 0.2449 - val_bb_head_loss: 0.1174 - val_cl_head_accuracy: 0.9355 - val_bb_head_mse: 0.1174\n",
            "Epoch 50/100\n",
            "26/26 [==============================] - 0s 16ms/step - loss: 0.0463 - cl_head_loss: 0.0058 - bb_head_loss: 0.0405 - cl_head_accuracy: 1.0000 - bb_head_mse: 0.0405 - val_loss: 0.3642 - val_cl_head_loss: 0.2471 - val_bb_head_loss: 0.1171 - val_cl_head_accuracy: 0.9194 - val_bb_head_mse: 0.1171\n",
            "Epoch 51/100\n",
            "26/26 [==============================] - 0s 15ms/step - loss: 0.0456 - cl_head_loss: 0.0054 - bb_head_loss: 0.0402 - cl_head_accuracy: 1.0000 - bb_head_mse: 0.0402 - val_loss: 0.3841 - val_cl_head_loss: 0.2677 - val_bb_head_loss: 0.1165 - val_cl_head_accuracy: 0.9032 - val_bb_head_mse: 0.1165\n",
            "Epoch 52/100\n",
            "26/26 [==============================] - 0s 16ms/step - loss: 0.0456 - cl_head_loss: 0.0057 - bb_head_loss: 0.0399 - cl_head_accuracy: 1.0000 - bb_head_mse: 0.0399 - val_loss: 0.3585 - val_cl_head_loss: 0.2417 - val_bb_head_loss: 0.1168 - val_cl_head_accuracy: 0.9355 - val_bb_head_mse: 0.1168\n",
            "Epoch 53/100\n",
            "26/26 [==============================] - 0s 16ms/step - loss: 0.0451 - cl_head_loss: 0.0055 - bb_head_loss: 0.0396 - cl_head_accuracy: 1.0000 - bb_head_mse: 0.0396 - val_loss: 0.3580 - val_cl_head_loss: 0.2414 - val_bb_head_loss: 0.1166 - val_cl_head_accuracy: 0.9355 - val_bb_head_mse: 0.1166\n",
            "Epoch 54/100\n",
            "26/26 [==============================] - 0s 16ms/step - loss: 0.0447 - cl_head_loss: 0.0054 - bb_head_loss: 0.0393 - cl_head_accuracy: 1.0000 - bb_head_mse: 0.0393 - val_loss: 0.3626 - val_cl_head_loss: 0.2466 - val_bb_head_loss: 0.1159 - val_cl_head_accuracy: 0.9194 - val_bb_head_mse: 0.1159\n",
            "Epoch 55/100\n",
            "26/26 [==============================] - 0s 16ms/step - loss: 0.0443 - cl_head_loss: 0.0053 - bb_head_loss: 0.0389 - cl_head_accuracy: 1.0000 - bb_head_mse: 0.0389 - val_loss: 0.3572 - val_cl_head_loss: 0.2417 - val_bb_head_loss: 0.1155 - val_cl_head_accuracy: 0.9516 - val_bb_head_mse: 0.1155\n",
            "Epoch 56/100\n",
            "26/26 [==============================] - 0s 16ms/step - loss: 0.0439 - cl_head_loss: 0.0053 - bb_head_loss: 0.0387 - cl_head_accuracy: 1.0000 - bb_head_mse: 0.0387 - val_loss: 0.3607 - val_cl_head_loss: 0.2457 - val_bb_head_loss: 0.1150 - val_cl_head_accuracy: 0.9194 - val_bb_head_mse: 0.1150\n",
            "Epoch 57/100\n",
            "26/26 [==============================] - 0s 16ms/step - loss: 0.0434 - cl_head_loss: 0.0050 - bb_head_loss: 0.0384 - cl_head_accuracy: 1.0000 - bb_head_mse: 0.0384 - val_loss: 0.3569 - val_cl_head_loss: 0.2425 - val_bb_head_loss: 0.1144 - val_cl_head_accuracy: 0.9194 - val_bb_head_mse: 0.1144\n",
            "Epoch 58/100\n",
            "26/26 [==============================] - 0s 16ms/step - loss: 0.0431 - cl_head_loss: 0.0050 - bb_head_loss: 0.0381 - cl_head_accuracy: 1.0000 - bb_head_mse: 0.0381 - val_loss: 0.3630 - val_cl_head_loss: 0.2490 - val_bb_head_loss: 0.1140 - val_cl_head_accuracy: 0.9194 - val_bb_head_mse: 0.1140\n",
            "Epoch 59/100\n",
            "26/26 [==============================] - 0s 16ms/step - loss: 0.0430 - cl_head_loss: 0.0052 - bb_head_loss: 0.0379 - cl_head_accuracy: 1.0000 - bb_head_mse: 0.0379 - val_loss: 0.3551 - val_cl_head_loss: 0.2410 - val_bb_head_loss: 0.1142 - val_cl_head_accuracy: 0.9194 - val_bb_head_mse: 0.1142\n",
            "Epoch 60/100\n",
            "26/26 [==============================] - 0s 15ms/step - loss: 0.0423 - cl_head_loss: 0.0047 - bb_head_loss: 0.0376 - cl_head_accuracy: 1.0000 - bb_head_mse: 0.0376 - val_loss: 0.3501 - val_cl_head_loss: 0.2362 - val_bb_head_loss: 0.1139 - val_cl_head_accuracy: 0.9516 - val_bb_head_mse: 0.1139\n",
            "Epoch 61/100\n",
            "26/26 [==============================] - 0s 16ms/step - loss: 0.0421 - cl_head_loss: 0.0047 - bb_head_loss: 0.0374 - cl_head_accuracy: 1.0000 - bb_head_mse: 0.0374 - val_loss: 0.3631 - val_cl_head_loss: 0.2496 - val_bb_head_loss: 0.1134 - val_cl_head_accuracy: 0.9194 - val_bb_head_mse: 0.1134\n",
            "Epoch 62/100\n",
            "26/26 [==============================] - 0s 16ms/step - loss: 0.0421 - cl_head_loss: 0.0049 - bb_head_loss: 0.0372 - cl_head_accuracy: 1.0000 - bb_head_mse: 0.0372 - val_loss: 0.3524 - val_cl_head_loss: 0.2390 - val_bb_head_loss: 0.1134 - val_cl_head_accuracy: 0.9516 - val_bb_head_mse: 0.1134\n",
            "Epoch 63/100\n",
            "26/26 [==============================] - 0s 15ms/step - loss: 0.0416 - cl_head_loss: 0.0046 - bb_head_loss: 0.0370 - cl_head_accuracy: 1.0000 - bb_head_mse: 0.0370 - val_loss: 0.4048 - val_cl_head_loss: 0.2918 - val_bb_head_loss: 0.1130 - val_cl_head_accuracy: 0.8871 - val_bb_head_mse: 0.1130\n",
            "Epoch 64/100\n",
            "26/26 [==============================] - 0s 16ms/step - loss: 0.0421 - cl_head_loss: 0.0053 - bb_head_loss: 0.0368 - cl_head_accuracy: 1.0000 - bb_head_mse: 0.0368 - val_loss: 0.3494 - val_cl_head_loss: 0.2367 - val_bb_head_loss: 0.1127 - val_cl_head_accuracy: 0.9355 - val_bb_head_mse: 0.1127\n",
            "Epoch 65/100\n",
            "26/26 [==============================] - 0s 15ms/step - loss: 0.0411 - cl_head_loss: 0.0045 - bb_head_loss: 0.0366 - cl_head_accuracy: 1.0000 - bb_head_mse: 0.0366 - val_loss: 0.3515 - val_cl_head_loss: 0.2387 - val_bb_head_loss: 0.1128 - val_cl_head_accuracy: 0.9194 - val_bb_head_mse: 0.1128\n",
            "Epoch 66/100\n",
            "26/26 [==============================] - 0s 16ms/step - loss: 0.0409 - cl_head_loss: 0.0044 - bb_head_loss: 0.0364 - cl_head_accuracy: 1.0000 - bb_head_mse: 0.0364 - val_loss: 0.3608 - val_cl_head_loss: 0.2480 - val_bb_head_loss: 0.1128 - val_cl_head_accuracy: 0.9194 - val_bb_head_mse: 0.1128\n",
            "Epoch 67/100\n",
            "26/26 [==============================] - 0s 16ms/step - loss: 0.0407 - cl_head_loss: 0.0044 - bb_head_loss: 0.0362 - cl_head_accuracy: 1.0000 - bb_head_mse: 0.0362 - val_loss: 0.3461 - val_cl_head_loss: 0.2335 - val_bb_head_loss: 0.1126 - val_cl_head_accuracy: 0.9516 - val_bb_head_mse: 0.1126\n",
            "Epoch 68/100\n",
            "26/26 [==============================] - 0s 15ms/step - loss: 0.0405 - cl_head_loss: 0.0045 - bb_head_loss: 0.0361 - cl_head_accuracy: 1.0000 - bb_head_mse: 0.0361 - val_loss: 0.3728 - val_cl_head_loss: 0.2607 - val_bb_head_loss: 0.1121 - val_cl_head_accuracy: 0.9032 - val_bb_head_mse: 0.1121\n",
            "Epoch 69/100\n",
            "26/26 [==============================] - 0s 16ms/step - loss: 0.0405 - cl_head_loss: 0.0046 - bb_head_loss: 0.0359 - cl_head_accuracy: 1.0000 - bb_head_mse: 0.0359 - val_loss: 0.3497 - val_cl_head_loss: 0.2379 - val_bb_head_loss: 0.1118 - val_cl_head_accuracy: 0.9516 - val_bb_head_mse: 0.1118\n",
            "Epoch 70/100\n",
            "26/26 [==============================] - 0s 16ms/step - loss: 0.0399 - cl_head_loss: 0.0041 - bb_head_loss: 0.0357 - cl_head_accuracy: 1.0000 - bb_head_mse: 0.0357 - val_loss: 0.3517 - val_cl_head_loss: 0.2402 - val_bb_head_loss: 0.1115 - val_cl_head_accuracy: 0.9194 - val_bb_head_mse: 0.1115\n",
            "Epoch 71/100\n",
            "26/26 [==============================] - 1s 20ms/step - loss: 0.0396 - cl_head_loss: 0.0041 - bb_head_loss: 0.0355 - cl_head_accuracy: 1.0000 - bb_head_mse: 0.0355 - val_loss: 0.3445 - val_cl_head_loss: 0.2333 - val_bb_head_loss: 0.1113 - val_cl_head_accuracy: 0.9516 - val_bb_head_mse: 0.1113\n",
            "Epoch 72/100\n",
            "26/26 [==============================] - 0s 16ms/step - loss: 0.0395 - cl_head_loss: 0.0041 - bb_head_loss: 0.0354 - cl_head_accuracy: 1.0000 - bb_head_mse: 0.0354 - val_loss: 0.3437 - val_cl_head_loss: 0.2328 - val_bb_head_loss: 0.1110 - val_cl_head_accuracy: 0.9516 - val_bb_head_mse: 0.1110\n",
            "Epoch 73/100\n",
            "26/26 [==============================] - 1s 24ms/step - loss: 0.0393 - cl_head_loss: 0.0041 - bb_head_loss: 0.0352 - cl_head_accuracy: 1.0000 - bb_head_mse: 0.0352 - val_loss: 0.3548 - val_cl_head_loss: 0.2441 - val_bb_head_loss: 0.1106 - val_cl_head_accuracy: 0.9194 - val_bb_head_mse: 0.1106\n",
            "Epoch 74/100\n",
            "26/26 [==============================] - 1s 22ms/step - loss: 0.0391 - cl_head_loss: 0.0040 - bb_head_loss: 0.0351 - cl_head_accuracy: 1.0000 - bb_head_mse: 0.0351 - val_loss: 0.3492 - val_cl_head_loss: 0.2389 - val_bb_head_loss: 0.1103 - val_cl_head_accuracy: 0.9194 - val_bb_head_mse: 0.1103\n",
            "Epoch 75/100\n",
            "26/26 [==============================] - 1s 19ms/step - loss: 0.0389 - cl_head_loss: 0.0040 - bb_head_loss: 0.0349 - cl_head_accuracy: 1.0000 - bb_head_mse: 0.0349 - val_loss: 0.3433 - val_cl_head_loss: 0.2331 - val_bb_head_loss: 0.1103 - val_cl_head_accuracy: 0.9516 - val_bb_head_mse: 0.1103\n",
            "Epoch 76/100\n",
            "26/26 [==============================] - 1s 23ms/step - loss: 0.0387 - cl_head_loss: 0.0039 - bb_head_loss: 0.0348 - cl_head_accuracy: 1.0000 - bb_head_mse: 0.0348 - val_loss: 0.3465 - val_cl_head_loss: 0.2365 - val_bb_head_loss: 0.1100 - val_cl_head_accuracy: 0.9516 - val_bb_head_mse: 0.1100\n",
            "Epoch 77/100\n",
            "26/26 [==============================] - 0s 18ms/step - loss: 0.0385 - cl_head_loss: 0.0039 - bb_head_loss: 0.0346 - cl_head_accuracy: 1.0000 - bb_head_mse: 0.0346 - val_loss: 0.3457 - val_cl_head_loss: 0.2361 - val_bb_head_loss: 0.1097 - val_cl_head_accuracy: 0.9516 - val_bb_head_mse: 0.1097\n",
            "Epoch 78/100\n",
            "26/26 [==============================] - 0s 16ms/step - loss: 0.0384 - cl_head_loss: 0.0039 - bb_head_loss: 0.0345 - cl_head_accuracy: 1.0000 - bb_head_mse: 0.0345 - val_loss: 0.3470 - val_cl_head_loss: 0.2384 - val_bb_head_loss: 0.1086 - val_cl_head_accuracy: 0.9194 - val_bb_head_mse: 0.1086\n",
            "Epoch 79/100\n",
            "26/26 [==============================] - 0s 16ms/step - loss: 0.0381 - cl_head_loss: 0.0038 - bb_head_loss: 0.0343 - cl_head_accuracy: 1.0000 - bb_head_mse: 0.0343 - val_loss: 0.3417 - val_cl_head_loss: 0.2332 - val_bb_head_loss: 0.1085 - val_cl_head_accuracy: 0.9516 - val_bb_head_mse: 0.1085\n",
            "Epoch 80/100\n",
            "26/26 [==============================] - 0s 15ms/step - loss: 0.0379 - cl_head_loss: 0.0037 - bb_head_loss: 0.0342 - cl_head_accuracy: 1.0000 - bb_head_mse: 0.0342 - val_loss: 0.3403 - val_cl_head_loss: 0.2317 - val_bb_head_loss: 0.1086 - val_cl_head_accuracy: 0.9516 - val_bb_head_mse: 0.1086\n",
            "Epoch 81/100\n",
            "26/26 [==============================] - 0s 16ms/step - loss: 0.0378 - cl_head_loss: 0.0037 - bb_head_loss: 0.0341 - cl_head_accuracy: 1.0000 - bb_head_mse: 0.0341 - val_loss: 0.3389 - val_cl_head_loss: 0.2305 - val_bb_head_loss: 0.1084 - val_cl_head_accuracy: 0.9516 - val_bb_head_mse: 0.1084\n",
            "Epoch 82/100\n",
            "26/26 [==============================] - 0s 16ms/step - loss: 0.0376 - cl_head_loss: 0.0037 - bb_head_loss: 0.0339 - cl_head_accuracy: 1.0000 - bb_head_mse: 0.0339 - val_loss: 0.3435 - val_cl_head_loss: 0.2354 - val_bb_head_loss: 0.1081 - val_cl_head_accuracy: 0.9516 - val_bb_head_mse: 0.1081\n",
            "Epoch 83/100\n",
            "26/26 [==============================] - 0s 16ms/step - loss: 0.0375 - cl_head_loss: 0.0037 - bb_head_loss: 0.0338 - cl_head_accuracy: 1.0000 - bb_head_mse: 0.0338 - val_loss: 0.3424 - val_cl_head_loss: 0.2345 - val_bb_head_loss: 0.1078 - val_cl_head_accuracy: 0.9516 - val_bb_head_mse: 0.1078\n",
            "Epoch 84/100\n",
            "26/26 [==============================] - 0s 16ms/step - loss: 0.0372 - cl_head_loss: 0.0035 - bb_head_loss: 0.0337 - cl_head_accuracy: 1.0000 - bb_head_mse: 0.0337 - val_loss: 0.3442 - val_cl_head_loss: 0.2365 - val_bb_head_loss: 0.1077 - val_cl_head_accuracy: 0.9516 - val_bb_head_mse: 0.1077\n",
            "Epoch 85/100\n",
            "26/26 [==============================] - 0s 16ms/step - loss: 0.0371 - cl_head_loss: 0.0035 - bb_head_loss: 0.0336 - cl_head_accuracy: 1.0000 - bb_head_mse: 0.0336 - val_loss: 0.3421 - val_cl_head_loss: 0.2345 - val_bb_head_loss: 0.1076 - val_cl_head_accuracy: 0.9516 - val_bb_head_mse: 0.1076\n",
            "Epoch 86/100\n",
            "26/26 [==============================] - 0s 17ms/step - loss: 0.0369 - cl_head_loss: 0.0034 - bb_head_loss: 0.0335 - cl_head_accuracy: 1.0000 - bb_head_mse: 0.0335 - val_loss: 0.3487 - val_cl_head_loss: 0.2415 - val_bb_head_loss: 0.1072 - val_cl_head_accuracy: 0.9194 - val_bb_head_mse: 0.1072\n",
            "Epoch 87/100\n",
            "26/26 [==============================] - 0s 16ms/step - loss: 0.0369 - cl_head_loss: 0.0035 - bb_head_loss: 0.0333 - cl_head_accuracy: 1.0000 - bb_head_mse: 0.0333 - val_loss: 0.3424 - val_cl_head_loss: 0.2354 - val_bb_head_loss: 0.1071 - val_cl_head_accuracy: 0.9516 - val_bb_head_mse: 0.1071\n",
            "Epoch 88/100\n",
            "26/26 [==============================] - 0s 16ms/step - loss: 0.0366 - cl_head_loss: 0.0034 - bb_head_loss: 0.0332 - cl_head_accuracy: 1.0000 - bb_head_mse: 0.0332 - val_loss: 0.3367 - val_cl_head_loss: 0.2298 - val_bb_head_loss: 0.1069 - val_cl_head_accuracy: 0.9516 - val_bb_head_mse: 0.1069\n",
            "Epoch 89/100\n",
            "26/26 [==============================] - 0s 16ms/step - loss: 0.0366 - cl_head_loss: 0.0034 - bb_head_loss: 0.0331 - cl_head_accuracy: 1.0000 - bb_head_mse: 0.0331 - val_loss: 0.3378 - val_cl_head_loss: 0.2312 - val_bb_head_loss: 0.1066 - val_cl_head_accuracy: 0.9516 - val_bb_head_mse: 0.1066\n",
            "Epoch 90/100\n",
            "26/26 [==============================] - 0s 16ms/step - loss: 0.0364 - cl_head_loss: 0.0034 - bb_head_loss: 0.0330 - cl_head_accuracy: 1.0000 - bb_head_mse: 0.0330 - val_loss: 0.3379 - val_cl_head_loss: 0.2313 - val_bb_head_loss: 0.1066 - val_cl_head_accuracy: 0.9516 - val_bb_head_mse: 0.1066\n",
            "Epoch 91/100\n",
            "26/26 [==============================] - 0s 16ms/step - loss: 0.0362 - cl_head_loss: 0.0033 - bb_head_loss: 0.0329 - cl_head_accuracy: 1.0000 - bb_head_mse: 0.0329 - val_loss: 0.3355 - val_cl_head_loss: 0.2291 - val_bb_head_loss: 0.1064 - val_cl_head_accuracy: 0.9516 - val_bb_head_mse: 0.1064\n",
            "Epoch 92/100\n",
            "26/26 [==============================] - 0s 16ms/step - loss: 0.0362 - cl_head_loss: 0.0033 - bb_head_loss: 0.0328 - cl_head_accuracy: 1.0000 - bb_head_mse: 0.0328 - val_loss: 0.3364 - val_cl_head_loss: 0.2303 - val_bb_head_loss: 0.1062 - val_cl_head_accuracy: 0.9516 - val_bb_head_mse: 0.1062\n",
            "Epoch 93/100\n",
            "26/26 [==============================] - 0s 15ms/step - loss: 0.0360 - cl_head_loss: 0.0033 - bb_head_loss: 0.0327 - cl_head_accuracy: 1.0000 - bb_head_mse: 0.0327 - val_loss: 0.3365 - val_cl_head_loss: 0.2305 - val_bb_head_loss: 0.1060 - val_cl_head_accuracy: 0.9516 - val_bb_head_mse: 0.1060\n",
            "Epoch 94/100\n",
            "26/26 [==============================] - 0s 17ms/step - loss: 0.0358 - cl_head_loss: 0.0032 - bb_head_loss: 0.0326 - cl_head_accuracy: 1.0000 - bb_head_mse: 0.0326 - val_loss: 0.3399 - val_cl_head_loss: 0.2342 - val_bb_head_loss: 0.1057 - val_cl_head_accuracy: 0.9516 - val_bb_head_mse: 0.1057\n",
            "Epoch 95/100\n",
            "26/26 [==============================] - 0s 16ms/step - loss: 0.0357 - cl_head_loss: 0.0032 - bb_head_loss: 0.0325 - cl_head_accuracy: 1.0000 - bb_head_mse: 0.0325 - val_loss: 0.3378 - val_cl_head_loss: 0.2322 - val_bb_head_loss: 0.1056 - val_cl_head_accuracy: 0.9516 - val_bb_head_mse: 0.1056\n",
            "Epoch 96/100\n",
            "26/26 [==============================] - 0s 17ms/step - loss: 0.0356 - cl_head_loss: 0.0032 - bb_head_loss: 0.0324 - cl_head_accuracy: 1.0000 - bb_head_mse: 0.0324 - val_loss: 0.3339 - val_cl_head_loss: 0.2281 - val_bb_head_loss: 0.1058 - val_cl_head_accuracy: 0.9516 - val_bb_head_mse: 0.1058\n",
            "Epoch 97/100\n",
            "26/26 [==============================] - 0s 16ms/step - loss: 0.0355 - cl_head_loss: 0.0031 - bb_head_loss: 0.0323 - cl_head_accuracy: 1.0000 - bb_head_mse: 0.0323 - val_loss: 0.3351 - val_cl_head_loss: 0.2297 - val_bb_head_loss: 0.1054 - val_cl_head_accuracy: 0.9516 - val_bb_head_mse: 0.1054\n",
            "Epoch 98/100\n",
            "26/26 [==============================] - 0s 17ms/step - loss: 0.0353 - cl_head_loss: 0.0031 - bb_head_loss: 0.0322 - cl_head_accuracy: 1.0000 - bb_head_mse: 0.0322 - val_loss: 0.3349 - val_cl_head_loss: 0.2297 - val_bb_head_loss: 0.1052 - val_cl_head_accuracy: 0.9516 - val_bb_head_mse: 0.1052\n",
            "Epoch 99/100\n",
            "26/26 [==============================] - 0s 16ms/step - loss: 0.0352 - cl_head_loss: 0.0031 - bb_head_loss: 0.0321 - cl_head_accuracy: 1.0000 - bb_head_mse: 0.0321 - val_loss: 0.3343 - val_cl_head_loss: 0.2292 - val_bb_head_loss: 0.1051 - val_cl_head_accuracy: 0.9516 - val_bb_head_mse: 0.1051\n",
            "Epoch 100/100\n",
            "26/26 [==============================] - 0s 19ms/step - loss: 0.0350 - cl_head_loss: 0.0030 - bb_head_loss: 0.0321 - cl_head_accuracy: 1.0000 - bb_head_mse: 0.0321 - val_loss: 0.3367 - val_cl_head_loss: 0.2318 - val_bb_head_loss: 0.1049 - val_cl_head_accuracy: 0.9516 - val_bb_head_mse: 0.1049\n"
          ]
        },
        {
          "output_type": "execute_result",
          "data": {
            "text/plain": [
              "<keras.callbacks.History at 0x7f592c4ba580>"
            ]
          },
          "metadata": {},
          "execution_count": 104
        }
      ]
    },
    {
      "cell_type": "code",
      "source": [],
      "metadata": {
        "id": "xjncvEz6DkZI"
      },
      "execution_count": null,
      "outputs": []
    },
    {
      "cell_type": "code",
      "source": [
        "# After freezing bb_ head.\n",
        "# val_cl_head_accuracy: 0.5806 - val_bb_head_mse: 0.3184\n",
        "\n",
        "\n",
        "# after adding custom cnn layer.\n",
        "# val_cl_head_accuracy: 0.4355 - val_bb_head_mse: 0.1381\n",
        "\n",
        "\n",
        "# after adding custom cnn layer after freezing bb and mobileNet.\n",
        "# val_cl_head_accuracy: 0.5806 - val_bb_head_mse: 0.1306\n",
        "\n",
        "# replacing to mobileNet v2 \n",
        "# val_cl_head_accuracy: 0.4032 - val_bb_head_mse: 0.1622\n",
        "\n",
        "# increase batch size to 8\n",
        "# val_cl_head_accuracy: 0.4032 - val_bb_head_mse: 0.1613\n",
        "\n",
        "\n",
        "# used the whole MobileNet layers without frezzing.[Increased really well]\n",
        "# val_cl_head_accuracy: 0.8065 - val_bb_head_mse: 0.1471\n",
        "\n",
        "\n",
        "# used the whole Mobnet layer and reduced the batchsize to 4 [till now top][first trained on batch 8 then on 4]\n",
        "# val_cl_head_accuracy: 0.8871 - val_bb_head_mse: 0.1450\n",
        "\n",
        "# used mobNetV3Large using all the layers at batch size=4\n",
        "# val_cl_head_accuracy: 0.8387 - val_bb_head_mse: 0.2368\n",
        "\n",
        "\n",
        "# used custom layer instead of mobileNet [ Top most one]\n",
        "# val_cl_head_accuracy: 0.9516 - val_bb_head_mse: 0.1049\n",
        "\n",
        "\n",
        "\n",
        "\n"
      ],
      "metadata": {
        "id": "VCJHMmcQ-gA7"
      },
      "execution_count": null,
      "outputs": []
    },
    {
      "cell_type": "markdown",
      "source": [
        "# Prediction phase;"
      ],
      "metadata": {
        "id": "oMlicz5x9vDM"
      }
    },
    {
      "cell_type": "code",
      "source": [
        "\n",
        "# CONVERT IMGE PATH TO IMAGE MATRIX\n",
        "def load_img_vis(input_img):\n",
        "\n",
        "  #reads the image using tf.io it just simply returns file as it is\n",
        "  image = tf.io.read_file(input_img) \n",
        "\n",
        "  # image we got from previous step is the image in our dataset which is .png format now decoding it\n",
        "  image = tf.image.decode_jpeg(image, channels=3)\n",
        "\n",
        "  # type casting of image dtype from uint8 to float32\n",
        "  # [NOTE] ---> NORMALIZED PIXELS DOESN'T AFFECT COORDINATEs.\n",
        "  image = tf.cast(image,tf.float32) / 255. # Only for testing purpose, model automatically does this\n",
        "\n",
        "  # # image resize\n",
        "  image = tf.image.resize(image, [224,224])\n",
        "\n",
        "  # INCREASE DIMENSIONS, while plotting w'll reduce this dimension\n",
        "  image = tf.expand_dims(image, 0)\n",
        "\n",
        "  print('Image shape is: ',image.shape)\n",
        "  img_width = image.shape[1] \n",
        "  img_height = image.shape[2]\n",
        "\n",
        "  print('Image width:',img_width)\n",
        "  print('Image height:',img_height, end='\\n\\n')\n",
        "\n",
        "\n",
        "  return image, img_width, img_height\n",
        "\n",
        "\n",
        "\n",
        "\n",
        "\n",
        "# PREDICT AND ADD BBOX\n",
        "def predict(df,index):\n",
        "\n",
        "\n",
        "  # x,y,w,h = actual_coord\n",
        "  # print('x-',x, 'y-',y, 'w-',w, 'h-',h)\n",
        "\n",
        "  # get img, img_widht,img_height\n",
        "  img,img_width,img_height = load_img_vis(df['path'].iloc[index])\n",
        "\n",
        "\n",
        "  #################\n",
        "  # model.predict #\n",
        "  #################\n",
        "\n",
        "  # model.predict it return array of image_class[10] + regression[4] for each inserted image\n",
        "  pred_class, pred_bbox = model.predict(img)\n",
        "\n",
        "\n",
        "  # predicted class of image\n",
        "  class_predict = np.argmax(pred_class)  #max probability class\n",
        "  print('max probability class:', class_predict, end='\\n')\n",
        "  \n",
        "  for i in mclass.keys():\n",
        "    if i == class_predict:\n",
        "      print('Class is:',mclass[i],end='\\n\\n')\n",
        "     \n",
        "\n",
        "\n",
        "  # actual bbox coordinates\n",
        "  actual_coord = df[['x','y','w','h']].iloc[index]\n",
        "  print('Actual coordinates:',list(actual_coord), end='\\n\\n') \n",
        "\n",
        "  # predicted bbox coordinates\n",
        "  reg_predict = pred_bbox[0]\n",
        "  print('predicted bbox coordinates:', reg_predict, end='\\n\\n')\n",
        "\n",
        "\n",
        "  x,y,w,h = reg_predict\n",
        "  print('Predicted x,y,w,h:',end='\\n')\n",
        "  print('pred x:{0}\\npred y:{1}\\npred w:{2}\\npred h:{3}'.format(x,y,w,h),end='\\n\\n')\n",
        "\n",
        "\n",
        "\n",
        "\n",
        "  #[NOTE]:\n",
        "  # x,y are center normalized by the width and height of the image\n",
        "  # w,h are the width n height of bbox normalized by image widht,height\n",
        "\n",
        "  ############################################\n",
        "  ### RESCALING THE COORD W.R.T IMAGE SIZE ###\n",
        "  ############################################\n",
        "    \n",
        "    \n",
        "  width = w*img_width\n",
        "  height = h*img_height\n",
        "  x = (x)*img_width\n",
        "  y = (y)*img_height\n",
        "  print('Rescaling the x,y,w,h with respect to image size: ', end='\\n')\n",
        "  print('denorm x:{0}\\ndenorm y:{1}\\ndenorm w:{2}\\ndenorm h:{3}'.format(x,y,w,h))\n",
        "\n",
        "\n",
        "  ### calculate xmin,ymin from denormalize x,y,w,h bcz rectangle need xmin,xmax##\n",
        "  xmin = (2*x-width)/2 \n",
        "  ymin = (2*y-height)/2\n",
        "  print('Calculated xmin ymin for rectangle as bbox building:', end='\\n')\n",
        "  print('denorm xmin-{0}\\ndenorm ymin:{1}'.format(xmin,ymin), end='\\n\\n')\n",
        "\n",
        "\n",
        "\n",
        "  # [checking]: If class has not detecd mouse then no bbox should be drawn, hence make all coords = 0\n",
        "  if class_predict == 1:\n",
        "    xmin, ymin, width, height = 0, 0, 0 ,0\n",
        "    \n",
        "\n",
        "\n",
        "  ## build rectangular patch\n",
        "  rectangle = plt.Rectangle((xmin,ymin), width, height, fill = False, linewidth=2, edgecolor='r')\n",
        "\n",
        "\n",
        "  fig, ax = plt.subplots()\n",
        "\n",
        "  #REDUCE DIMENSION, as our image has 4-dim to 3-dim bcz plt accepts 3 dim only  \n",
        "  img = tf.squeeze(img, axis=0) \n",
        "  ax.imshow(img)\n",
        "  # finally plotting patch\n",
        "  ax.add_patch(rectangle)\n",
        "  plt.show()\n",
        "\n",
        "\n",
        "  # Printing class once again:\n",
        "  for i in mclass.keys():\n",
        "    if i == class_predict:\n",
        "      print('Class is:',mclass[i],end='\\n\\n')\n",
        "\n"
      ],
      "metadata": {
        "id": "X6iSMdh_3aMW"
      },
      "execution_count": null,
      "outputs": []
    },
    {
      "cell_type": "markdown",
      "source": [
        "### Calling the predicted function"
      ],
      "metadata": {
        "id": "GgnQT0X2BIEn"
      }
    },
    {
      "cell_type": "code",
      "source": [
        "\n",
        "index_num = np.random.randint(0,200)\n",
        "print(index_num)\n",
        "predict(combined_train_df, index_num)\n",
        "\n"
      ],
      "metadata": {
        "id": "KsvH9Hnt3aJx",
        "colab": {
          "base_uri": "https://localhost:8080/",
          "height": 809
        },
        "outputId": "65d51c0f-e5dc-4958-f47e-2cf37038d880"
      },
      "execution_count": null,
      "outputs": [
        {
          "output_type": "stream",
          "name": "stdout",
          "text": [
            "69\n",
            "Image shape is:  (1, 224, 224, 3)\n",
            "Image width: 224\n",
            "Image height: 224\n",
            "\n",
            "1/1 [==============================] - 0s 24ms/step\n",
            "max probability class: 1\n",
            "Class is: Mouse Not Detected\n",
            "\n",
            "Actual coordinates: [0.0, 0.0, 0.0, 0.0]\n",
            "\n",
            "predicted bbox coordinates: [0.49730685 0.4987729  0.49445868 0.4973436 ]\n",
            "\n",
            "Predicted x,y,w,h:\n",
            "pred x:0.49730685353279114\n",
            "pred y:0.49877288937568665\n",
            "pred w:0.4944586753845215\n",
            "pred h:0.49734359979629517\n",
            "\n",
            "Rescaling the x,y,w,h with respect to image size: \n",
            "denorm x:111.39673519134521\n",
            "denorm y:111.72512722015381\n",
            "denorm w:0.4944586753845215\n",
            "denorm h:0.49734359979629517\n",
            "Calculated xmin ymin for rectangle as bbox building:\n",
            "denorm xmin-56.01736354827881\n",
            "denorm ymin:56.02264404296875\n",
            "\n"
          ]
        },
        {
          "output_type": "display_data",
          "data": {
            "text/plain": [
              "<Figure size 432x288 with 1 Axes>"
            ],
            "image/png": "[encoded data removed]"
          },
          "metadata": {
            "needs_background": "light"
          }
        },
        {
          "output_type": "stream",
          "name": "stdout",
          "text": [
            "Class is: Mouse Not Detected\n",
            "\n"
          ]
        }
      ]
    },
    {
      "cell_type": "code",
      "source": [],
      "metadata": {
        "id": "f38C9G0GEx7S"
      },
      "execution_count": null,
      "outputs": []
    }
  ]
}